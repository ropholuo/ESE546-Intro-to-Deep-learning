{
  "nbformat": 4,
  "nbformat_minor": 0,
  "metadata": {
    "colab": {
      "name": "jinhui_hw1_problem1.ipynb",
      "provenance": [],
      "collapsed_sections": [],
      "authorship_tag": "ABX9TyN/wwtpOJKPrem0zCHsdfN4",
      "include_colab_link": true
    },
    "kernelspec": {
      "name": "python3",
      "display_name": "Python 3"
    },
    "language_info": {
      "name": "python"
    }
  },
  "cells": [
    {
      "cell_type": "markdown",
      "metadata": {
        "id": "view-in-github",
        "colab_type": "text"
      },
      "source": [
        "<a href=\"https://colab.research.google.com/github/ropholuo/ESE546-Intro-to-Deep-learning/blob/main/jinhui_hw1_problem1.ipynb\" target=\"_parent\"><img src=\"https://colab.research.google.com/assets/colab-badge.svg\" alt=\"Open In Colab\"/></a>"
      ]
    },
    {
      "cell_type": "code",
      "metadata": {
        "id": "aHbo6IYknU2H",
        "colab": {
          "base_uri": "https://localhost:8080/"
        },
        "outputId": "6bbb65a3-87d2-499e-b87c-f38fe88acda1"
      },
      "source": [
        "!pip install scikit-learn scikit-image"
      ],
      "execution_count": null,
      "outputs": [
        {
          "output_type": "stream",
          "name": "stdout",
          "text": [
            "Requirement already satisfied: scikit-learn in /usr/local/lib/python3.7/dist-packages (0.22.2.post1)\n",
            "Requirement already satisfied: scikit-image in /usr/local/lib/python3.7/dist-packages (0.16.2)\n",
            "Requirement already satisfied: joblib>=0.11 in /usr/local/lib/python3.7/dist-packages (from scikit-learn) (1.0.1)\n",
            "Requirement already satisfied: numpy>=1.11.0 in /usr/local/lib/python3.7/dist-packages (from scikit-learn) (1.19.5)\n",
            "Requirement already satisfied: scipy>=0.17.0 in /usr/local/lib/python3.7/dist-packages (from scikit-learn) (1.4.1)\n",
            "Requirement already satisfied: networkx>=2.0 in /usr/local/lib/python3.7/dist-packages (from scikit-image) (2.6.2)\n",
            "Requirement already satisfied: imageio>=2.3.0 in /usr/local/lib/python3.7/dist-packages (from scikit-image) (2.4.1)\n",
            "Requirement already satisfied: PyWavelets>=0.4.0 in /usr/local/lib/python3.7/dist-packages (from scikit-image) (1.1.1)\n",
            "Requirement already satisfied: pillow>=4.3.0 in /usr/local/lib/python3.7/dist-packages (from scikit-image) (7.1.2)\n",
            "Requirement already satisfied: matplotlib!=3.0.0,>=2.0.0 in /usr/local/lib/python3.7/dist-packages (from scikit-image) (3.2.2)\n",
            "Requirement already satisfied: pyparsing!=2.0.4,!=2.1.2,!=2.1.6,>=2.0.1 in /usr/local/lib/python3.7/dist-packages (from matplotlib!=3.0.0,>=2.0.0->scikit-image) (2.4.7)\n",
            "Requirement already satisfied: kiwisolver>=1.0.1 in /usr/local/lib/python3.7/dist-packages (from matplotlib!=3.0.0,>=2.0.0->scikit-image) (1.3.1)\n",
            "Requirement already satisfied: python-dateutil>=2.1 in /usr/local/lib/python3.7/dist-packages (from matplotlib!=3.0.0,>=2.0.0->scikit-image) (2.8.2)\n",
            "Requirement already satisfied: cycler>=0.10 in /usr/local/lib/python3.7/dist-packages (from matplotlib!=3.0.0,>=2.0.0->scikit-image) (0.10.0)\n",
            "Requirement already satisfied: six in /usr/local/lib/python3.7/dist-packages (from cycler>=0.10->matplotlib!=3.0.0,>=2.0.0->scikit-image) (1.15.0)\n"
          ]
        }
      ]
    },
    {
      "cell_type": "markdown",
      "metadata": {
        "id": "pj_8JKItUX7_"
      },
      "source": [
        "**Download dataset**"
      ]
    },
    {
      "cell_type": "code",
      "metadata": {
        "id": "cp3vV7thqO04"
      },
      "source": [
        "from sklearn.datasets import fetch_openml\n",
        "from sklearn.model_selection import train_test_split\n",
        "\n",
        "ds = fetch_openml('mnist_784', as_frame = False)\n",
        "x, y = ds.data, ds.target\n",
        "\n",
        "x_train, x_val, y_train, y_val = train_test_split(\n",
        "    x, y, test_size=0.2, random_state=42)"
      ],
      "execution_count": null,
      "outputs": []
    },
    {
      "cell_type": "code",
      "metadata": {
        "colab": {
          "base_uri": "https://localhost:8080/"
        },
        "id": "ndc2rTGjnAYX",
        "outputId": "17aa5ede-fc5d-4e35-aac8-a3748b39b503"
      },
      "source": [
        "np.shape(x)"
      ],
      "execution_count": null,
      "outputs": [
        {
          "output_type": "execute_result",
          "data": {
            "text/plain": [
              "(70000, 784)"
            ]
          },
          "metadata": {},
          "execution_count": 94
        }
      ]
    },
    {
      "cell_type": "code",
      "metadata": {
        "colab": {
          "base_uri": "https://localhost:8080/",
          "height": 283
        },
        "id": "uWAANMQyWo53",
        "outputId": "6fc162d8-41b4-489a-acd0-2ce3b4e421f9"
      },
      "source": [
        "import matplotlib.pyplot as plt\n",
        "a = x_train[3].reshape((28,28))\n",
        "plt.imshow(a)\n",
        "\n",
        "import cv2\n",
        "b = cv2.resize(a,(14,14))\n",
        "plt.imshow(b)"
      ],
      "execution_count": null,
      "outputs": [
        {
          "output_type": "execute_result",
          "data": {
            "text/plain": [
              "<matplotlib.image.AxesImage at 0x7eff8844d850>"
            ]
          },
          "metadata": {},
          "execution_count": 2
        },
        {
          "output_type": "display_data",
          "data": {
            "image/png": "[encoded data removed]",
            "text/plain": [
              "<Figure size 432x288 with 1 Axes>"
            ]
          },
          "metadata": {
            "needs_background": "light"
          }
        }
      ]
    },
    {
      "cell_type": "markdown",
      "metadata": {
        "id": "VOUTKqpEYvkS"
      },
      "source": [
        "**(c) Construct datasets**"
      ]
    },
    {
      "cell_type": "code",
      "metadata": {
        "id": "xPyLMdxNYpMJ"
      },
      "source": [
        "import numpy as np\n",
        "import matplotlib.pyplot as plt\n",
        "\n",
        "def datasetConstructor(x, y, test_size):\n",
        "  # find the number of classes and number of samples in each class\n",
        "  num_class = np.unique(y)\n",
        "  num_count = {catagory: sum(y==catagory) for catagory in num_class}\n",
        "\n",
        "  # find the indexes of every samples in each class\n",
        "  sample_index = {}\n",
        "  for i, catagory in enumerate(num_class):\n",
        "    index = [j for j, num in enumerate(y) if num==catagory]\n",
        "    sample_index[i] = index\n",
        "\n",
        "  # randomly choose samples in every class\n",
        "  x_train, x_val, y_train, y_val = [], [], [], []\n",
        "  train_idx, test_idx = [], []\n",
        "  for catagory, idx in sample_index.items():\n",
        "    np.random.shuffle(idx)\n",
        "    class_trainidx = idx[:int((1-test_size)*len(idx))]\n",
        "    class_testidx = idx[int((1-test_size)*len(idx)):]\n",
        "    train_idx += class_trainidx\n",
        "    test_idx += class_testidx\n",
        "\n",
        "  x_train = x[train_idx]\n",
        "  x_val = x[test_idx]\n",
        "  y_train = y[train_idx]\n",
        "  y_val = y[test_idx]\n",
        "\n",
        "  return x_train, x_val, y_train, y_val\n",
        "\n"
      ],
      "execution_count": null,
      "outputs": []
    },
    {
      "cell_type": "code",
      "metadata": {
        "id": "h4gwLJK3gQEV"
      },
      "source": [
        "x_train, x_val, y_train, y_val = datasetConstructor(x, y, test_size=0.2)"
      ],
      "execution_count": null,
      "outputs": []
    },
    {
      "cell_type": "code",
      "metadata": {
        "colab": {
          "base_uri": "https://localhost:8080/"
        },
        "id": "1YwWYlyUsgAk",
        "outputId": "b2283ed3-385c-4481-eba2-7b2a283cbb28"
      },
      "source": [
        "np.shape(x_train)"
      ],
      "execution_count": null,
      "outputs": [
        {
          "output_type": "execute_result",
          "data": {
            "text/plain": [
              "(55996, 784)"
            ]
          },
          "metadata": {},
          "execution_count": 51
        }
      ]
    },
    {
      "cell_type": "markdown",
      "metadata": {
        "id": "JH0d-EmKgcOF"
      },
      "source": [
        "The reason is that we still need the validation dataset to further tune the hyperparameters."
      ]
    },
    {
      "cell_type": "markdown",
      "metadata": {
        "id": "dp48vKXxwUph"
      },
      "source": [
        "**(d) Use SVM Classfier**"
      ]
    },
    {
      "cell_type": "markdown",
      "metadata": {
        "id": "3bk-9yemynkT"
      },
      "source": [
        "Down sample the images to 14*14 in advance"
      ]
    },
    {
      "cell_type": "code",
      "metadata": {
        "id": "lIKjMXDiysvv"
      },
      "source": [
        "import cv2\n",
        "\n",
        "x_train_ds, x_val_ds = np.empty((len(x_train),196)), np.empty((len(x_val),196))\n",
        "for idx in range(len(x_train)):\n",
        "  a = x_train[idx].reshape((28,28))\n",
        "  b = cv2.resize(a, (14,14))\n",
        "  x_train_ds[idx] = b.reshape(196)\n",
        "\n",
        "for idx in range(len(x_val)):\n",
        "  a = x_val[idx].reshape((28,28))\n",
        "  b = cv2.resize(a, (14,14))\n",
        "  x_val_ds[idx] = b.reshape(196)"
      ],
      "execution_count": null,
      "outputs": []
    },
    {
      "cell_type": "code",
      "metadata": {
        "id": "DIA1FSv22RTF"
      },
      "source": [
        "plt.imshow(x_train_ds[0].reshape(14,14))"
      ],
      "execution_count": null,
      "outputs": []
    },
    {
      "cell_type": "markdown",
      "metadata": {
        "id": "YUQLWPp06dgO"
      },
      "source": [
        "apply svm to the dataset"
      ]
    },
    {
      "cell_type": "code",
      "metadata": {
        "id": "s5DPtJqOgs50",
        "colab": {
          "base_uri": "https://localhost:8080/"
        },
        "outputId": "c0ecd9a2-a7de-4780-f691-b43169118082"
      },
      "source": [
        "from sklearn import svm\n",
        "from sklearn.pipeline import make_pipeline\n",
        "from sklearn.preprocessing import StandardScaler\n",
        "\n",
        "classifier = svm.SVC(C=1.0, kernel='rbf')\n",
        "\n",
        "clf = make_pipeline(StandardScaler(), svm.SVC(gamma='scale'))\n",
        "clf.fit(x_train_ds,y_train)"
      ],
      "execution_count": null,
      "outputs": [
        {
          "output_type": "execute_result",
          "data": {
            "text/plain": [
              "Pipeline(memory=None,\n",
              "         steps=[('standardscaler',\n",
              "                 StandardScaler(copy=True, with_mean=True, with_std=True)),\n",
              "                ('svc',\n",
              "                 SVC(C=1.0, break_ties=False, cache_size=200, class_weight=None,\n",
              "                     coef0=0.0, decision_function_shape='ovr', degree=3,\n",
              "                     gamma='scale', kernel='rbf', max_iter=-1,\n",
              "                     probability=False, random_state=None, shrinking=True,\n",
              "                     tol=0.001, verbose=False))],\n",
              "         verbose=False)"
            ]
          },
          "metadata": {},
          "execution_count": 64
        }
      ]
    },
    {
      "cell_type": "markdown",
      "metadata": {
        "id": "i526tOUi6loT"
      },
      "source": [
        "use the model to predict the validation dataset and calculate the accuracy and confusion matrix"
      ]
    },
    {
      "cell_type": "code",
      "metadata": {
        "colab": {
          "base_uri": "https://localhost:8080/"
        },
        "id": "9l0uTPRq3sGY",
        "outputId": "be779286-3b90-467e-9674-638662c8a347"
      },
      "source": [
        "accute = 0\n",
        "conf_mat = np.zeros((10,10))\n",
        "\n",
        "for i in range(len(x_val_ds)):\n",
        "  pred = clf.predict([x_val_ds[i]])\n",
        "  if pred == y_val[i]:\n",
        "    accute += 1\n",
        "    conf_mat[int(y_val[i]),int(y_val[i])] += 1\n",
        "\n",
        "  else:\n",
        "      conf_mat[int(pred),int(y_val[i])] += 1\n",
        "\n",
        "val_acc = accute/len(x_val)\n",
        "print(val_acc)\n",
        "print(conf_mat)"
      ],
      "execution_count": null,
      "outputs": [
        {
          "output_type": "stream",
          "name": "stdout",
          "text": [
            "0.9690088546129677\n",
            "[[1.356e+03 0.000e+00 4.000e+00 3.000e+00 2.000e+00 2.000e+00 4.000e+00\n",
            "  1.000e+00 3.000e+00 2.000e+00]\n",
            " [2.000e+00 1.554e+03 1.000e+00 0.000e+00 3.000e+00 1.000e+00 5.000e+00\n",
            "  5.000e+00 1.100e+01 4.000e+00]\n",
            " [5.000e+00 9.000e+00 1.358e+03 2.000e+01 6.000e+00 5.000e+00 1.800e+01\n",
            "  1.500e+01 5.000e+00 6.000e+00]\n",
            " [1.000e+00 2.000e+00 9.000e+00 1.365e+03 0.000e+00 1.100e+01 0.000e+00\n",
            "  5.000e+00 1.300e+01 6.000e+00]\n",
            " [1.000e+00 3.000e+00 6.000e+00 0.000e+00 1.324e+03 2.000e+00 2.000e+00\n",
            "  7.000e+00 9.000e+00 1.400e+01]\n",
            " [5.000e+00 0.000e+00 2.000e+00 1.700e+01 0.000e+00 1.225e+03 6.000e+00\n",
            "  0.000e+00 9.000e+00 4.000e+00]\n",
            " [5.000e+00 1.000e+00 2.000e+00 0.000e+00 8.000e+00 7.000e+00 1.340e+03\n",
            "  0.000e+00 2.000e+00 0.000e+00]\n",
            " [3.000e+00 2.000e+00 4.000e+00 5.000e+00 1.000e+00 0.000e+00 0.000e+00\n",
            "  1.410e+03 6.000e+00 1.600e+01]\n",
            " [3.000e+00 2.000e+00 1.200e+01 1.700e+01 3.000e+00 5.000e+00 1.000e+00\n",
            "  1.000e+00 1.301e+03 3.000e+00]\n",
            " [0.000e+00 3.000e+00 0.000e+00 2.000e+00 1.800e+01 5.000e+00 0.000e+00\n",
            "  1.500e+01 6.000e+00 1.337e+03]]\n"
          ]
        }
      ]
    },
    {
      "cell_type": "markdown",
      "metadata": {
        "id": "cx44aNCNEkoz"
      },
      "source": [
        "**(g) Use GridSearch function to find better C value**"
      ]
    },
    {
      "cell_type": "code",
      "metadata": {
        "colab": {
          "base_uri": "https://localhost:8080/"
        },
        "id": "sY2GdSxZEkNa",
        "outputId": "aee6edc7-cba5-46f8-8415-a093b6826f12"
      },
      "source": [
        "from sklearn.model_selection import GridSearchCV\n",
        "from sklearn.preprocessing import scale\n",
        "\n",
        "parameters = {'C':[1,3,5,7,9]}\n",
        "x_train_pre = scale(x_train_ds)\n",
        "clf = GridSearchCV(\n",
        "    svm.SVC(kernel='rbf', gamma='scale',probability=False), \n",
        "    parameters,\n",
        "    n_jobs=-1,\n",
        "    cv=2)\n",
        "clf.fit(x_train_pre,y_train)\n",
        "\n",
        "sorted(clf.cv_results_.keys())"
      ],
      "execution_count": null,
      "outputs": [
        {
          "output_type": "execute_result",
          "data": {
            "text/plain": [
              "['mean_fit_time',\n",
              " 'mean_score_time',\n",
              " 'mean_test_score',\n",
              " 'param_C',\n",
              " 'params',\n",
              " 'rank_test_score',\n",
              " 'split0_test_score',\n",
              " 'split1_test_score',\n",
              " 'std_fit_time',\n",
              " 'std_score_time',\n",
              " 'std_test_score']"
            ]
          },
          "metadata": {},
          "execution_count": 92
        }
      ]
    },
    {
      "cell_type": "code",
      "metadata": {
        "id": "mE7EMGWaktSs"
      },
      "source": [
        "n "
      ],
      "execution_count": null,
      "outputs": []
    },
    {
      "cell_type": "code",
      "metadata": {
        "colab": {
          "base_uri": "https://localhost:8080/"
        },
        "id": "pzS6AtkUVjz2",
        "outputId": "3906a338-ceeb-485b-dc7f-c9f0400681c7"
      },
      "source": [
        "print(clf.cv_results_)"
      ],
      "execution_count": null,
      "outputs": [
        {
          "output_type": "stream",
          "name": "stdout",
          "text": [
            "{'mean_fit_time': array([49.98128033, 45.12441969, 44.33623028, 44.63502479, 43.84102571]), 'std_fit_time': array([0.18506122, 0.13853478, 0.24146295, 0.06136441, 0.00189197]), 'mean_score_time': array([85.86342502, 76.19795549, 75.37422454, 79.6425097 , 73.8806237 ]), 'std_score_time': array([0.20323324, 0.42508876, 1.0016526 , 0.6455307 , 0.53603208]), 'param_C': masked_array(data=[1, 3, 5, 7, 9],\n",
            "             mask=[False, False, False, False, False],\n",
            "       fill_value='?',\n",
            "            dtype=object), 'params': [{'C': 1}, {'C': 3}, {'C': 5}, {'C': 7}, {'C': 9}], 'split0_test_score': array([0.96103293, 0.96653332, 0.96724766, 0.96767626, 0.967962  ]), 'split1_test_score': array([0.95985428, 0.96639046, 0.96778341, 0.96799771, 0.96799771]), 'mean_test_score': array([0.9604436 , 0.96646189, 0.96751554, 0.96783699, 0.96797986]), 'std_test_score': array([5.89327809e-04, 7.14336738e-05, 2.67876277e-04, 1.60725766e-04,\n",
            "       1.78584185e-05]), 'rank_test_score': array([5, 4, 3, 2, 1], dtype=int32)}\n"
          ]
        }
      ]
    },
    {
      "cell_type": "markdown",
      "metadata": {
        "id": "mo9pe4p-FuOD"
      },
      "source": [
        "**(h) Modeled with Gabor functions**"
      ]
    },
    {
      "cell_type": "markdown",
      "metadata": {
        "id": "E7eqF4rwGAs9"
      },
      "source": [
        "Create dataset with 500 samples and downsample it"
      ]
    },
    {
      "cell_type": "code",
      "metadata": {
        "id": "DrLA0G22GEVn"
      },
      "source": [
        "import cv2\n",
        "import numpy as np\n",
        "\n",
        "def fiveHundredImages(x, y):\n",
        "  # find the number of classes and number of samples in each class\n",
        "  num_class = np.unique(y)\n",
        "  num_count = {catagory: sum(y==catagory) for catagory in num_class}\n",
        "\n",
        "  # find the indexes of every samples in each class\n",
        "  sample_index = {}\n",
        "  for i, catagory in enumerate(num_class):\n",
        "    index = [j for j, num in enumerate(y) if num==catagory]\n",
        "    sample_index[i] = index\n",
        "\n",
        "  # randomly choose samples in every class\n",
        "  x_train, x_val, y_train, y_val = [], [], [], []\n",
        "  train_idx, test_idx = [], []\n",
        "  for catagory, idx in sample_index.items():\n",
        "    np.random.shuffle(idx)\n",
        "    class_trainidx = idx[:50]\n",
        "    class_testidx = idx[50:100]\n",
        "    train_idx += class_trainidx\n",
        "    test_idx += class_testidx\n",
        "\n",
        "  x_train = x[train_idx]\n",
        "  x_val = x[test_idx]\n",
        "  y_train = y[train_idx]\n",
        "  y_val = y[test_idx]\n",
        "\n",
        "  return x_train, x_val, y_train, y_val\n",
        "\n",
        "aa, bb, y_train_few, y_val_few = fiveHundredImages(x,y)\n",
        "\n",
        "x_train_few, x_val_few = np.empty((500,196)), np.empty((500,196))\n",
        "for idx in range(500):\n",
        "  a = aa[idx].reshape((28,28))\n",
        "  b = cv2.resize(a, (14,14))\n",
        "  x_train_few[idx] = b.reshape(196)\n",
        "\n",
        "for idx in range(500):\n",
        "  a = bb[idx].reshape((28,28))\n",
        "  b = cv2.resize(a, (14,14))\n",
        "  x_val_few[idx] = b.reshape(196)"
      ],
      "execution_count": null,
      "outputs": []
    },
    {
      "cell_type": "code",
      "metadata": {
        "colab": {
          "base_uri": "https://localhost:8080/",
          "height": 535
        },
        "id": "e5tCmiwJKwZD",
        "outputId": "fda8cc85-3a89-43e7-aca6-d8e4fbed3184"
      },
      "source": [
        "from skimage.filters import gabor_kernel, gabor\n",
        "import numpy as np\n",
        "import matplotlib.pyplot as plt\n",
        "\n",
        "freq, theta, bandwidth = 0.5, np.pi/5, 5\n",
        "gk = gabor_kernel(frequency=freq, theta=theta, bandwidth=bandwidth)\n",
        "plt.figure(1); plt.clf(); plt.imshow(gk.real)\n",
        "plt.figure(2); plt.clf(); plt.imshow(gk.imag)\n",
        "\n",
        "image = x_train_few[0].reshape((14,14))\n",
        "coeff_real, _ = gabor(image, frequency=freq, theta=theta, \n",
        "                      bandwidth=bandwidth)\n",
        "plt.figure(1); plt.clf(); plt.imshow(coeff_real)"
      ],
      "execution_count": null,
      "outputs": [
        {
          "output_type": "execute_result",
          "data": {
            "text/plain": [
              "<matplotlib.image.AxesImage at 0x7f3ad8da8690>"
            ]
          },
          "metadata": {},
          "execution_count": 21
        },
        {
          "output_type": "display_data",
          "data": {
            "image/png": "[encoded data removed]",
            "text/plain": [
              "<Figure size 432x288 with 1 Axes>"
            ]
          },
          "metadata": {
            "needs_background": "light"
          }
        },
        {
          "output_type": "display_data",
          "data": {
            "image/png": "[encoded data removed]",
            "text/plain": [
              "<Figure size 432x288 with 1 Axes>"
            ]
          },
          "metadata": {
            "needs_background": "light"
          }
        }
      ]
    },
    {
      "cell_type": "markdown",
      "metadata": {
        "id": "b1Ph60VZQA2J"
      },
      "source": [
        "**(j) Use filter bank to train SVM**"
      ]
    },
    {
      "cell_type": "markdown",
      "metadata": {
        "id": "IbidCY-DQO-L"
      },
      "source": [
        "generate the filter bank and check the plots"
      ]
    },
    {
      "cell_type": "code",
      "metadata": {
        "id": "Yv2iH0duMzGp"
      },
      "source": [
        "from skimage.filters import gabor_kernel, gabor\n",
        "\n",
        "theta = np.arange(0, np.pi, np.pi/4)\n",
        "frequency = np.arange(0.05, 0.5, 0.15)\n",
        "bandwidth = np.arange(0.3, 1, 0.3)\n",
        "\n",
        "# for i in theta:\n",
        "#   for j in frequency:\n",
        "#     for k in bandwidth:\n",
        "#       gk = gabor_kernel(frequency=j, theta=i, bandwidth=k)\n",
        "#       plt.figure(); plt.clf(); plt.imshow(gk.real)\n",
        "#       plt.figure(); plt.clf(); plt.imshow(gk.imag)"
      ],
      "execution_count": null,
      "outputs": []
    },
    {
      "cell_type": "markdown",
      "metadata": {
        "id": "fdvy5HBnP20v"
      },
      "source": [
        "Apply the filter bank to training and validation dataset"
      ]
    },
    {
      "cell_type": "code",
      "metadata": {
        "id": "vkRyu7VBQfCk"
      },
      "source": [
        "import pdb\n",
        "\n",
        "x_train_conv = np.zeros((500,7056))\n",
        "\n",
        "for idx in range(500):\n",
        "  coeff = []\n",
        "  for i in theta:\n",
        "    for j in frequency:\n",
        "      for k in bandwidth:\n",
        "        image = x_train_few[idx].reshape((14,14))\n",
        "        coeff_real, _ = gabor(\n",
        "            image, frequency=j, theta=i, bandwidth=k)\n",
        "        # pdb.set_trace()\n",
        "        coeff.append(coeff_real.reshape(-1))\n",
        "  x_train_conv[idx] = np.array(coeff).reshape(-1)"
      ],
      "execution_count": null,
      "outputs": []
    },
    {
      "cell_type": "code",
      "metadata": {
        "id": "F25YkD7Xf427"
      },
      "source": [
        "np.shape(y_val_few)"
      ],
      "execution_count": null,
      "outputs": []
    },
    {
      "cell_type": "code",
      "metadata": {
        "id": "m5WenqfoqTlR"
      },
      "source": [
        "x_val_conv = np.zeros((500,7056))\n",
        "\n",
        "for idx in range(500):\n",
        "  coeff = []\n",
        "  for i in theta:\n",
        "    for j in frequency:\n",
        "      for k in bandwidth:\n",
        "        image = x_val_few[idx].reshape((14,14))\n",
        "        coeff_real, _ = gabor(\n",
        "            image, frequency=j, theta=i, bandwidth=k)\n",
        "        # pdb.set_trace()\n",
        "        coeff.append(coeff_real.reshape(-1))\n",
        "  x_val_conv[idx] = np.array(coeff).reshape(-1)"
      ],
      "execution_count": null,
      "outputs": []
    },
    {
      "cell_type": "markdown",
      "metadata": {
        "id": "shdWCRUgr8PH"
      },
      "source": [
        "Train the model with filtered dataset"
      ]
    },
    {
      "cell_type": "code",
      "metadata": {
        "colab": {
          "base_uri": "https://localhost:8080/"
        },
        "id": "rOBBztqjqnGE",
        "outputId": "abae7605-4394-4c3e-88d6-126e7673968c"
      },
      "source": [
        "from sklearn import svm\n",
        "from sklearn.pipeline import make_pipeline\n",
        "from sklearn.preprocessing import StandardScaler\n",
        "\n",
        "classifier = svm.SVC(C=1.0, kernel='rbf')\n",
        "\n",
        "clf = make_pipeline(StandardScaler(), svm.SVC(gamma='scale'))\n",
        "clf.fit(x_train_conv,y_train_few)"
      ],
      "execution_count": null,
      "outputs": [
        {
          "output_type": "execute_result",
          "data": {
            "text/plain": [
              "Pipeline(memory=None,\n",
              "         steps=[('standardscaler',\n",
              "                 StandardScaler(copy=True, with_mean=True, with_std=True)),\n",
              "                ('svc',\n",
              "                 SVC(C=1.0, break_ties=False, cache_size=200, class_weight=None,\n",
              "                     coef0=0.0, decision_function_shape='ovr', degree=3,\n",
              "                     gamma='scale', kernel='rbf', max_iter=-1,\n",
              "                     probability=False, random_state=None, shrinking=True,\n",
              "                     tol=0.001, verbose=False))],\n",
              "         verbose=False)"
            ]
          },
          "metadata": {},
          "execution_count": 26
        }
      ]
    },
    {
      "cell_type": "markdown",
      "metadata": {
        "id": "IJNhYEqnrsyQ"
      },
      "source": [
        "Test the accuracy of new model"
      ]
    },
    {
      "cell_type": "code",
      "metadata": {
        "colab": {
          "base_uri": "https://localhost:8080/"
        },
        "id": "D9YqWL7rrFgZ",
        "outputId": "2367dccb-388d-4077-e630-0ebfdda2ab64"
      },
      "source": [
        "accute = 0\n",
        "\n",
        "for i in range(len(x_val_conv)):\n",
        "  pred = clf.predict([x_val_conv[i]])\n",
        "  if pred == y_val_few[i]:\n",
        "    accute += 1\n",
        "\n",
        "val_acc = accute/len(x_val_conv)\n",
        "print(val_acc)"
      ],
      "execution_count": null,
      "outputs": [
        {
          "output_type": "stream",
          "name": "stdout",
          "text": [
            "0.862\n"
          ]
        }
      ]
    }
  ]
}