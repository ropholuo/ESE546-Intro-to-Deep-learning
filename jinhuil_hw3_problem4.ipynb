{
  "nbformat": 4,
  "nbformat_minor": 0,
  "metadata": {
    "colab": {
      "name": "jinhuil_hw3_problem4.ipynb",
      "provenance": [],
      "collapsed_sections": [],
      "machine_shape": "hm",
      "authorship_tag": "ABX9TyPt+p2oNiYYi2SlxkVtDqaL",
      "include_colab_link": true
    },
    "kernelspec": {
      "name": "python3",
      "display_name": "Python 3"
    },
    "language_info": {
      "name": "python"
    },
    "accelerator": "GPU"
  },
  "cells": [
    {
      "cell_type": "markdown",
      "metadata": {
        "id": "view-in-github",
        "colab_type": "text"
      },
      "source": [
        "<a href=\"https://colab.research.google.com/github/ropholuo/ESE546-Intro-to-Deep-learning/blob/main/jinhuil_hw3_problem4.ipynb\" target=\"_parent\"><img src=\"https://colab.research.google.com/assets/colab-badge.svg\" alt=\"Open In Colab\"/></a>"
      ]
    },
    {
      "cell_type": "code",
      "metadata": {
        "id": "OkENXxZ4Hs7c"
      },
      "source": [
        "import torch\n",
        "from torch import nn\n",
        "\n",
        "import numpy as np"
      ],
      "execution_count": null,
      "outputs": []
    },
    {
      "cell_type": "code",
      "metadata": {
        "colab": {
          "resources": {
            "http://localhost:8080/nbextensions/google.colab/files.js": {
              "data": "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",
              "ok": true,
              "headers": [
                [
                  "content-type",
                  "application/javascript"
                ]
              ],
              "status": 200,
              "status_text": ""
            }
          },
          "base_uri": "https://localhost:8080/",
          "height": 76
        },
        "id": "tTmO1ebnW_DL",
        "outputId": "f4c01ac1-e4ba-4ae4-8770-63566ba93d3e"
      },
      "source": [
        "from google.colab import files\n",
        "\n",
        "uploaded = files.upload()\n",
        "\n",
        "for fn in uploaded.keys():\n",
        "  print('User uploaded file \"{name}\" with length {length} bytes'.format(\n",
        "      name=fn, length=len(uploaded[fn])))"
      ],
      "execution_count": null,
      "outputs": [
        {
          "output_type": "display_data",
          "data": {
            "text/html": [
              "\n",
              "     <input type=\"file\" id=\"files-0597a37c-e29f-4121-bed5-d22f336c3570\" name=\"files[]\" multiple disabled\n",
              "        style=\"border:none\" />\n",
              "     <output id=\"result-0597a37c-e29f-4121-bed5-d22f336c3570\">\n",
              "      Upload widget is only available when the cell has been executed in the\n",
              "      current browser session. Please rerun this cell to enable.\n",
              "      </output>\n",
              "      <script src=\"/nbextensions/google.colab/files.js\"></script> "
            ],
            "text/plain": [
              "<IPython.core.display.HTML object>"
            ]
          },
          "metadata": {}
        },
        {
          "output_type": "stream",
          "name": "stdout",
          "text": [
            "Saving book-war-and-peace.txt to book-war-and-peace.txt\n",
            "User uploaded file \"book-war-and-peace.txt\" with length 3266164 bytes\n"
          ]
        }
      ]
    },
    {
      "cell_type": "markdown",
      "metadata": {
        "id": "GETIcqgwGdmp"
      },
      "source": [
        "Read file. Decode it from bytes to string. Remove \\n"
      ]
    },
    {
      "cell_type": "code",
      "metadata": {
        "id": "Z2TIqsCxoSqa"
      },
      "source": [
        "file = uploaded['book-war-and-peace.txt'].decode('utf-8').replace('\\n','')"
      ],
      "execution_count": null,
      "outputs": []
    },
    {
      "cell_type": "markdown",
      "metadata": {
        "id": "KmD_GiXuGosl"
      },
      "source": [
        "Find the number of identical characters"
      ]
    },
    {
      "cell_type": "code",
      "metadata": {
        "id": "2-cebmQpnNeB"
      },
      "source": [
        "def lenOneHot(file, seqnum, seqlen):\n",
        "  part = \"\"\n",
        "  for i in range(1,seqnum):\n",
        "    seq = file[(i-1)*seqlen:i*seqlen]\n",
        "    part += seq\n",
        "  data = set(part)\n",
        "  m = len(data)\n",
        "  return m, data"
      ],
      "execution_count": null,
      "outputs": []
    },
    {
      "cell_type": "code",
      "metadata": {
        "colab": {
          "base_uri": "https://localhost:8080/"
        },
        "id": "h0yDkC31qIkz",
        "outputId": "a901ab5b-10bc-4f8b-fc44-d2abf2a8056d"
      },
      "source": [
        "m, data = lenOneHot(file, len(file), 25)\n",
        "print(m)\n",
        "print(data)"
      ],
      "execution_count": null,
      "outputs": [
        {
          "output_type": "stream",
          "name": "stdout",
          "text": [
            "82\n",
            "{'W', 'F', '-', 'q', 'é', 'h', 'G', 'V', 'Y', 'U', '!', '(', \"'\", 'K', ' ', '9', 'X', 'u', 'o', 'z', 'A', 'w', 'r', 'T', 'O', ':', '8', 'l', 'H', 'Z', 'Q', '5', 'f', 'i', 'E', 'x', 'j', 'L', 'ä', 'k', '*', '\\r', 'd', 't', 'à', 'R', '1', 'm', 'a', 'N', 'M', '=', 'v', 's', 'b', 'n', ';', 'C', '/', 'J', 'I', '4', '6', 'c', 'B', 'p', '2', 'S', 'ê', '0', 'y', 'D', '3', '.', 'P', ',', '?', ')', '7', 'g', 'e', '\"'}\n"
          ]
        }
      ]
    },
    {
      "cell_type": "code",
      "metadata": {
        "colab": {
          "base_uri": "https://localhost:8080/",
          "height": 35
        },
        "id": "d3NHpl5iymfr",
        "outputId": "ef1fb1bd-2931-445c-f066-75c66f6d6712"
      },
      "source": [
        "file[:100]"
      ],
      "execution_count": null,
      "outputs": [
        {
          "output_type": "execute_result",
          "data": {
            "application/vnd.google.colaboratory.intrinsic+json": {
              "type": "string"
            },
            "text/plain": [
              "'CHAPTER I\\r\\r\"Well, Prince, so Genoa and Lucca are now just family estates of the\\rBuonapartes. But I w'"
            ]
          },
          "metadata": {},
          "execution_count": 6
        }
      ]
    },
    {
      "cell_type": "markdown",
      "metadata": {
        "id": "P9NqK5JXHCiR"
      },
      "source": [
        "Dict for converting characters and integers"
      ]
    },
    {
      "cell_type": "code",
      "metadata": {
        "id": "D4RoWk5t1vyI"
      },
      "source": [
        "int2char = dict(enumerate(data))\n",
        "char2int = {char: ind for ind, char in int2char.items()}"
      ],
      "execution_count": null,
      "outputs": []
    },
    {
      "cell_type": "code",
      "metadata": {
        "colab": {
          "base_uri": "https://localhost:8080/"
        },
        "id": "uPshHDjy0VzD",
        "outputId": "ca0d5a5b-65be-46c5-c9ec-d7c0318c038c"
      },
      "source": [
        "len(char2int)"
      ],
      "execution_count": null,
      "outputs": [
        {
          "output_type": "execute_result",
          "data": {
            "text/plain": [
              "82"
            ]
          },
          "metadata": {},
          "execution_count": 24
        }
      ]
    },
    {
      "cell_type": "markdown",
      "metadata": {
        "id": "0BVhkpnXGUog"
      },
      "source": [
        "Generate sequences of input and targets"
      ]
    },
    {
      "cell_type": "code",
      "metadata": {
        "id": "nSqxZ2FsC1Hm"
      },
      "source": [
        "input = []\n",
        "target = []\n",
        "test, test_target = [], []\n",
        "for i in range(10000):\n",
        "  input.append(file[i:i+25])\n",
        "  target.append(file[i+1:i+26])\n",
        "\n",
        "for i in range(20000, 30000):\n",
        "  test.append(file[i:i+25])\n",
        "  test_target.append(file[i+1:i+26])"
      ],
      "execution_count": null,
      "outputs": []
    },
    {
      "cell_type": "markdown",
      "metadata": {
        "id": "l9puNomCGOJE"
      },
      "source": [
        "Convert input and target from characters to integers. Use half of the book."
      ]
    },
    {
      "cell_type": "code",
      "metadata": {
        "id": "zTza_rAKFnXs"
      },
      "source": [
        "input_seq = []\n",
        "target_seq = []\n",
        "test_seq, test_target_seq = [], []\n",
        "for i in range(10000):\n",
        "  input_seq.append([char2int[char] for char in input[i]])\n",
        "  target_seq.append([char2int[char] for char in target[i]])\n",
        "  test_seq.append([char2int[char] for char in test[i]])\n",
        "  test_target_seq.append([char2int[char] for char in test_target[i]])"
      ],
      "execution_count": null,
      "outputs": []
    },
    {
      "cell_type": "code",
      "metadata": {
        "colab": {
          "base_uri": "https://localhost:8080/"
        },
        "id": "1ZKV8KnC3gf3",
        "outputId": "13f4fee3-5c7a-45bc-ee61-c3e49ba96bb9"
      },
      "source": [
        "np.shape(input_seq)"
      ],
      "execution_count": null,
      "outputs": [
        {
          "output_type": "execute_result",
          "data": {
            "text/plain": [
              "(10000, 25, 82)"
            ]
          },
          "metadata": {},
          "execution_count": 115
        }
      ]
    },
    {
      "cell_type": "markdown",
      "metadata": {
        "id": "HLIZ1GBaP4ba"
      },
      "source": [
        "Encode input training data into one-hot"
      ]
    },
    {
      "cell_type": "code",
      "metadata": {
        "id": "nHR2j1fgHHwV"
      },
      "source": [
        "dict_size = len(char2int)\n",
        "seq_len = 25\n",
        "batch_size = len(input_seq)\n",
        "\n",
        "def oneHotEncoder(dict_size, seq_size, sequence, batch_size):\n",
        "  features = np.zeros((batch_size, seq_size, dict_size), dtype=np.float32)\n",
        "\n",
        "  for i in range(batch_size):\n",
        "    for j in range(seq_size):\n",
        "      features[i, j, sequence[i][j]] = 1\n",
        "\n",
        "  return features"
      ],
      "execution_count": null,
      "outputs": []
    },
    {
      "cell_type": "code",
      "metadata": {
        "id": "vRDnmXZyOsE1"
      },
      "source": [
        "input_seq = oneHotEncoder(dict_size, seq_len, input_seq, batch_size)\n",
        "test_seq = oneHotEncoder(dict_size, seq_len, test_seq, batch_size)"
      ],
      "execution_count": null,
      "outputs": []
    },
    {
      "cell_type": "markdown",
      "metadata": {
        "id": "TgkFK_Yz6TTH"
      },
      "source": [
        "**(b)**"
      ]
    },
    {
      "cell_type": "code",
      "metadata": {
        "id": "BcucuGxl4Bn8"
      },
      "source": [
        "input_seq = torch.from_numpy(input_seq)\n",
        "target_seq = torch.Tensor(target_seq)\n",
        "test_seq = torch.from_numpy(test_seq)\n",
        "test_target_seq = torch.Tensor(test_target_seq)"
      ],
      "execution_count": null,
      "outputs": []
    },
    {
      "cell_type": "code",
      "metadata": {
        "id": "MsEF--Vpmiva"
      },
      "source": [
        "trainset = torch.utils.data.TensorDataset(input_seq, target_seq)\n",
        "train_loader = torch.utils.data.DataLoader(trainset, batch_size=1, shuffle=True)\n",
        "testset = torch.utils.data.TensorDataset(test_seq, test_target_seq)\n",
        "test_loader = torch.utils.data.DataLoader(testset, batch_size=1, shuffle=False)"
      ],
      "execution_count": null,
      "outputs": []
    },
    {
      "cell_type": "code",
      "metadata": {
        "colab": {
          "base_uri": "https://localhost:8080/"
        },
        "id": "09fe0ZQh95-3",
        "outputId": "e204836a-1f87-4d33-91b7-eeb2f69a3bac"
      },
      "source": [
        "if torch.cuda.is_available():\n",
        "  device = torch.device(\"cuda\")\n",
        "  print(\"GPU is available\")\n",
        "else:\n",
        "  device = torch.device(\"cpu\")\n",
        "  print(\"GPU not available\")"
      ],
      "execution_count": null,
      "outputs": [
        {
          "output_type": "stream",
          "name": "stdout",
          "text": [
            "GPU is available\n"
          ]
        }
      ]
    },
    {
      "cell_type": "code",
      "metadata": {
        "id": "aqISBwfw-_mg"
      },
      "source": [
        "class myrnn(nn.Module):\n",
        "  def __init__(self, input_size, output_size, hidden_dim, n_layers):\n",
        "    super(myrnn, self).__init__()\n",
        "\n",
        "    self.hidden_dim = hidden_dim\n",
        "    self.n_layers = n_layers\n",
        "\n",
        "    self.rnn = nn.RNN(input_size, hidden_dim, n_layers, batch_first=True)\n",
        "    self.fc = nn.Linear(hidden_dim, output_size)\n",
        "    self.batchnorm = nn.BatchNorm1d(hidden_dim)\n",
        "\n",
        "  def forward(self, x):\n",
        "    batch_size = x.size(0)\n",
        "\n",
        "    hidden = self.init_hidden(batch_size)\n",
        "    hidden = hidden.to(device)\n",
        "\n",
        "    out, hidden = self.rnn(x, hidden)\n",
        "    # out = out.permute(0, 2, 1)\n",
        "    # out = self.batchnorm(out)\n",
        "    out = out.contiguous().view(-1, self.hidden_dim)\n",
        "    out = self.fc(out)\n",
        "\n",
        "    return out, hidden\n",
        "\n",
        "  def init_hidden(self, batch_size):\n",
        "    hidden = torch.zeros(self.n_layers, batch_size, self.hidden_dim)\n",
        "\n",
        "    return hidden"
      ],
      "execution_count": null,
      "outputs": []
    },
    {
      "cell_type": "code",
      "metadata": {
        "id": "tGK1kctixnl9"
      },
      "source": [
        "x, y = next(iter(train_loader))"
      ],
      "execution_count": null,
      "outputs": []
    },
    {
      "cell_type": "code",
      "metadata": {
        "colab": {
          "base_uri": "https://localhost:8080/"
        },
        "id": "fWGxxnnVyqCV",
        "outputId": "ad215f58-726d-492e-962b-304999f97697"
      },
      "source": [
        "x.shape"
      ],
      "execution_count": null,
      "outputs": [
        {
          "output_type": "execute_result",
          "data": {
            "text/plain": [
              "torch.Size([1, 25, 82])"
            ]
          },
          "metadata": {},
          "execution_count": 20
        }
      ]
    },
    {
      "cell_type": "code",
      "metadata": {
        "id": "_zJ2bnlsugus"
      },
      "source": [
        "def train(model, optimizer, criterion, train_loader, epochs):\n",
        "  model = model.to(device)\n",
        "  total_step = len(train_loader)\n",
        "  overall_step = 0\n",
        "  train_loss, test_loss = [], []\n",
        "\n",
        "  for epoch in range(epochs):\n",
        "    model.train()\n",
        "    for i, (input, target) in enumerate(train_loader):\n",
        "      input = input.to(device)\n",
        "      target = target.to(device)\n",
        "      \n",
        "      optimizer.zero_grad()\n",
        "      output, hidden = model(input)\n",
        "      loss = criterion(output, target.view(-1).long())\n",
        "      loss.backward()\n",
        "      torch.nn.utils.clip_grad_norm_(model.parameters(), 0.25)\n",
        "      optimizer.step()\n",
        "\n",
        "      if (i+1) % 1000 == 0:\n",
        "        print ('Epoch [{}/{}], Step [{}/{}], Loss: {:.4f}'.format(epoch+1, epochs, i+1, total_step, loss.item()))\n",
        "        train_loss.append(loss.item())\n",
        "\n",
        "\n",
        "    print('-'*50)\n",
        "\n",
        "\n",
        "\n",
        "    model.eval()\n",
        "    with torch.no_grad():\n",
        "      correct, total = 0, 0\n",
        "      for i, (input, target) in enumerate(test_loader):\n",
        "        input = input.to(device)\n",
        "        target = target.to(device)\n",
        "        output, _ = model(input)\n",
        "        loss = criterion(output, target.view(-1).long())\n",
        "\n",
        "    print('Loss of the network on the testset: {}'.format(loss.item()))\n",
        "    test_loss.append(loss.item())\n",
        "\n",
        "  return train_loss, test_loss"
      ],
      "execution_count": null,
      "outputs": []
    },
    {
      "cell_type": "code",
      "metadata": {
        "id": "yJu2FW6ecQgB"
      },
      "source": [
        "model = myrnn(input_size=dict_size, output_size=dict_size, hidden_dim=256, n_layers=1)\n",
        "model.to(device)\n",
        "\n",
        "lr = 10**(-3)\n",
        "\n",
        "criterion = nn.CrossEntropyLoss()\n",
        "optimizer = torch.optim.Adam(model.parameters(), lr=lr)"
      ],
      "execution_count": null,
      "outputs": []
    },
    {
      "cell_type": "code",
      "metadata": {
        "colab": {
          "base_uri": "https://localhost:8080/"
        },
        "id": "LqrKJHUAtg59",
        "outputId": "141a7d36-0807-4e11-b9c9-061040c8f809"
      },
      "source": [
        "train_loss, test_loss = train(model, optimizer, criterion, train_loader, 20)"
      ],
      "execution_count": null,
      "outputs": [
        {
          "output_type": "stream",
          "name": "stdout",
          "text": [
            "Epoch [1/20], Step [1000/10000], Loss: 2.8683\n",
            "Epoch [1/20], Step [2000/10000], Loss: 1.7181\n",
            "Epoch [1/20], Step [3000/10000], Loss: 3.1826\n",
            "Epoch [1/20], Step [4000/10000], Loss: 2.5238\n",
            "Epoch [1/20], Step [5000/10000], Loss: 2.3488\n",
            "Epoch [1/20], Step [6000/10000], Loss: 2.0881\n",
            "Epoch [1/20], Step [7000/10000], Loss: 2.6112\n",
            "Epoch [1/20], Step [8000/10000], Loss: 1.7514\n",
            "Epoch [1/20], Step [9000/10000], Loss: 1.7025\n",
            "Epoch [1/20], Step [10000/10000], Loss: 1.3227\n",
            "--------------------------------------------------\n",
            "Loss of the network on the testset: 2.5982089042663574\n",
            "Epoch [2/20], Step [1000/10000], Loss: 1.0370\n",
            "Epoch [2/20], Step [2000/10000], Loss: 1.6448\n",
            "Epoch [2/20], Step [3000/10000], Loss: 1.7867\n",
            "Epoch [2/20], Step [4000/10000], Loss: 1.4622\n",
            "Epoch [2/20], Step [5000/10000], Loss: 1.3078\n",
            "Epoch [2/20], Step [6000/10000], Loss: 1.1150\n",
            "Epoch [2/20], Step [7000/10000], Loss: 0.7827\n",
            "Epoch [2/20], Step [8000/10000], Loss: 1.0024\n",
            "Epoch [2/20], Step [9000/10000], Loss: 1.3866\n",
            "Epoch [2/20], Step [10000/10000], Loss: 1.3076\n",
            "--------------------------------------------------\n",
            "Loss of the network on the testset: 2.9244251251220703\n",
            "Epoch [3/20], Step [1000/10000], Loss: 0.4304\n",
            "Epoch [3/20], Step [2000/10000], Loss: 1.2169\n",
            "Epoch [3/20], Step [3000/10000], Loss: 0.8427\n",
            "Epoch [3/20], Step [4000/10000], Loss: 1.5043\n",
            "Epoch [3/20], Step [5000/10000], Loss: 1.0500\n",
            "Epoch [3/20], Step [6000/10000], Loss: 0.6373\n",
            "Epoch [3/20], Step [7000/10000], Loss: 0.7872\n",
            "Epoch [3/20], Step [8000/10000], Loss: 0.7093\n",
            "Epoch [3/20], Step [9000/10000], Loss: 1.0282\n",
            "Epoch [3/20], Step [10000/10000], Loss: 1.1723\n",
            "--------------------------------------------------\n",
            "Loss of the network on the testset: 3.066016435623169\n",
            "Epoch [4/20], Step [1000/10000], Loss: 1.1637\n",
            "Epoch [4/20], Step [2000/10000], Loss: 0.8151\n",
            "Epoch [4/20], Step [3000/10000], Loss: 0.7336\n",
            "Epoch [4/20], Step [4000/10000], Loss: 0.6277\n",
            "Epoch [4/20], Step [5000/10000], Loss: 1.0449\n",
            "Epoch [4/20], Step [6000/10000], Loss: 0.6190\n",
            "Epoch [4/20], Step [7000/10000], Loss: 0.7120\n",
            "Epoch [4/20], Step [8000/10000], Loss: 0.9435\n",
            "Epoch [4/20], Step [9000/10000], Loss: 1.3784\n",
            "Epoch [4/20], Step [10000/10000], Loss: 0.6405\n",
            "--------------------------------------------------\n",
            "Loss of the network on the testset: 3.322312831878662\n",
            "Epoch [5/20], Step [1000/10000], Loss: 0.3657\n",
            "Epoch [5/20], Step [2000/10000], Loss: 0.6406\n",
            "Epoch [5/20], Step [3000/10000], Loss: 1.0937\n",
            "Epoch [5/20], Step [4000/10000], Loss: 0.9215\n",
            "Epoch [5/20], Step [5000/10000], Loss: 0.6398\n",
            "Epoch [5/20], Step [6000/10000], Loss: 0.5492\n",
            "Epoch [5/20], Step [7000/10000], Loss: 0.6946\n",
            "Epoch [5/20], Step [8000/10000], Loss: 0.9300\n",
            "Epoch [5/20], Step [9000/10000], Loss: 0.4045\n",
            "Epoch [5/20], Step [10000/10000], Loss: 0.9631\n",
            "--------------------------------------------------\n",
            "Loss of the network on the testset: 3.5378212928771973\n",
            "Epoch [6/20], Step [1000/10000], Loss: 0.9101\n",
            "Epoch [6/20], Step [2000/10000], Loss: 1.0233\n",
            "Epoch [6/20], Step [3000/10000], Loss: 0.6593\n",
            "Epoch [6/20], Step [4000/10000], Loss: 1.0417\n",
            "Epoch [6/20], Step [5000/10000], Loss: 0.7056\n",
            "Epoch [6/20], Step [6000/10000], Loss: 0.9162\n",
            "Epoch [6/20], Step [7000/10000], Loss: 0.9195\n",
            "Epoch [6/20], Step [8000/10000], Loss: 1.1668\n",
            "Epoch [6/20], Step [9000/10000], Loss: 0.9471\n",
            "Epoch [6/20], Step [10000/10000], Loss: 0.9199\n",
            "--------------------------------------------------\n",
            "Loss of the network on the testset: 3.449552536010742\n",
            "Epoch [7/20], Step [1000/10000], Loss: 0.5180\n",
            "Epoch [7/20], Step [2000/10000], Loss: 0.3606\n",
            "Epoch [7/20], Step [3000/10000], Loss: 0.6084\n",
            "Epoch [7/20], Step [4000/10000], Loss: 0.8846\n",
            "Epoch [7/20], Step [5000/10000], Loss: 0.8121\n",
            "Epoch [7/20], Step [6000/10000], Loss: 0.6342\n",
            "Epoch [7/20], Step [7000/10000], Loss: 0.4538\n",
            "Epoch [7/20], Step [8000/10000], Loss: 0.5146\n",
            "Epoch [7/20], Step [9000/10000], Loss: 0.5397\n",
            "Epoch [7/20], Step [10000/10000], Loss: 1.0677\n",
            "--------------------------------------------------\n",
            "Loss of the network on the testset: 3.917921781539917\n",
            "Epoch [8/20], Step [1000/10000], Loss: 0.8897\n",
            "Epoch [8/20], Step [2000/10000], Loss: 0.4651\n",
            "Epoch [8/20], Step [3000/10000], Loss: 0.5682\n",
            "Epoch [8/20], Step [4000/10000], Loss: 0.5395\n",
            "Epoch [8/20], Step [5000/10000], Loss: 0.5022\n",
            "Epoch [8/20], Step [6000/10000], Loss: 0.7235\n",
            "Epoch [8/20], Step [7000/10000], Loss: 0.7994\n",
            "Epoch [8/20], Step [8000/10000], Loss: 0.5664\n",
            "Epoch [8/20], Step [9000/10000], Loss: 0.4513\n",
            "Epoch [8/20], Step [10000/10000], Loss: 1.0805\n",
            "--------------------------------------------------\n",
            "Loss of the network on the testset: 3.265393018722534\n",
            "Epoch [9/20], Step [1000/10000], Loss: 0.6978\n",
            "Epoch [9/20], Step [2000/10000], Loss: 0.7108\n",
            "Epoch [9/20], Step [3000/10000], Loss: 1.0247\n",
            "Epoch [9/20], Step [4000/10000], Loss: 0.6944\n",
            "Epoch [9/20], Step [5000/10000], Loss: 1.0125\n",
            "Epoch [9/20], Step [6000/10000], Loss: 0.6445\n",
            "Epoch [9/20], Step [7000/10000], Loss: 0.7189\n",
            "Epoch [9/20], Step [8000/10000], Loss: 0.5992\n",
            "Epoch [9/20], Step [9000/10000], Loss: 0.3905\n",
            "Epoch [9/20], Step [10000/10000], Loss: 0.8354\n",
            "--------------------------------------------------\n",
            "Loss of the network on the testset: 3.494969367980957\n",
            "Epoch [10/20], Step [1000/10000], Loss: 0.5171\n",
            "Epoch [10/20], Step [2000/10000], Loss: 0.7378\n",
            "Epoch [10/20], Step [3000/10000], Loss: 0.8052\n",
            "Epoch [10/20], Step [4000/10000], Loss: 0.5949\n",
            "Epoch [10/20], Step [5000/10000], Loss: 0.6988\n",
            "Epoch [10/20], Step [6000/10000], Loss: 0.6485\n",
            "Epoch [10/20], Step [7000/10000], Loss: 0.7657\n",
            "Epoch [10/20], Step [8000/10000], Loss: 0.7525\n",
            "Epoch [10/20], Step [9000/10000], Loss: 0.8717\n",
            "Epoch [10/20], Step [10000/10000], Loss: 0.4066\n",
            "--------------------------------------------------\n",
            "Loss of the network on the testset: 2.9105660915374756\n",
            "Epoch [11/20], Step [1000/10000], Loss: 0.6665\n",
            "Epoch [11/20], Step [2000/10000], Loss: 0.2796\n",
            "Epoch [11/20], Step [3000/10000], Loss: 0.9559\n",
            "Epoch [11/20], Step [4000/10000], Loss: 0.6679\n",
            "Epoch [11/20], Step [5000/10000], Loss: 0.4584\n",
            "Epoch [11/20], Step [6000/10000], Loss: 0.7080\n",
            "Epoch [11/20], Step [7000/10000], Loss: 0.9564\n",
            "Epoch [11/20], Step [8000/10000], Loss: 0.5365\n",
            "Epoch [11/20], Step [9000/10000], Loss: 0.6612\n",
            "Epoch [11/20], Step [10000/10000], Loss: 0.7108\n",
            "--------------------------------------------------\n",
            "Loss of the network on the testset: 3.5221569538116455\n",
            "Epoch [12/20], Step [1000/10000], Loss: 0.6857\n",
            "Epoch [12/20], Step [2000/10000], Loss: 0.6095\n",
            "Epoch [12/20], Step [3000/10000], Loss: 0.5991\n",
            "Epoch [12/20], Step [4000/10000], Loss: 0.4672\n",
            "Epoch [12/20], Step [5000/10000], Loss: 0.7014\n",
            "Epoch [12/20], Step [6000/10000], Loss: 1.0698\n",
            "Epoch [12/20], Step [7000/10000], Loss: 0.7331\n",
            "Epoch [12/20], Step [8000/10000], Loss: 1.1845\n",
            "Epoch [12/20], Step [9000/10000], Loss: 0.5803\n",
            "Epoch [12/20], Step [10000/10000], Loss: 0.3589\n",
            "--------------------------------------------------\n",
            "Loss of the network on the testset: 3.0596578121185303\n",
            "Epoch [13/20], Step [1000/10000], Loss: 0.0768\n",
            "Epoch [13/20], Step [2000/10000], Loss: 0.7977\n",
            "Epoch [13/20], Step [3000/10000], Loss: 1.2887\n",
            "Epoch [13/20], Step [4000/10000], Loss: 0.4978\n",
            "Epoch [13/20], Step [5000/10000], Loss: 0.9932\n",
            "Epoch [13/20], Step [6000/10000], Loss: 0.7827\n",
            "Epoch [13/20], Step [7000/10000], Loss: 1.0335\n",
            "Epoch [13/20], Step [8000/10000], Loss: 0.3343\n",
            "Epoch [13/20], Step [9000/10000], Loss: 0.6835\n",
            "Epoch [13/20], Step [10000/10000], Loss: 0.6686\n",
            "--------------------------------------------------\n",
            "Loss of the network on the testset: 3.5284528732299805\n",
            "Epoch [14/20], Step [1000/10000], Loss: 0.3094\n",
            "Epoch [14/20], Step [2000/10000], Loss: 1.0900\n",
            "Epoch [14/20], Step [3000/10000], Loss: 0.7633\n",
            "Epoch [14/20], Step [4000/10000], Loss: 0.8893\n",
            "Epoch [14/20], Step [5000/10000], Loss: 1.2715\n",
            "Epoch [14/20], Step [6000/10000], Loss: 0.3232\n",
            "Epoch [14/20], Step [7000/10000], Loss: 0.8793\n",
            "Epoch [14/20], Step [8000/10000], Loss: 1.5390\n",
            "Epoch [14/20], Step [9000/10000], Loss: 0.8120\n",
            "Epoch [14/20], Step [10000/10000], Loss: 0.6598\n",
            "--------------------------------------------------\n",
            "Loss of the network on the testset: 3.3666465282440186\n",
            "Epoch [15/20], Step [1000/10000], Loss: 0.8551\n",
            "Epoch [15/20], Step [2000/10000], Loss: 0.6922\n",
            "Epoch [15/20], Step [3000/10000], Loss: 0.6200\n",
            "Epoch [15/20], Step [4000/10000], Loss: 1.2258\n",
            "Epoch [15/20], Step [5000/10000], Loss: 0.8320\n",
            "Epoch [15/20], Step [6000/10000], Loss: 0.5005\n",
            "Epoch [15/20], Step [7000/10000], Loss: 0.9240\n",
            "Epoch [15/20], Step [8000/10000], Loss: 0.5377\n",
            "Epoch [15/20], Step [9000/10000], Loss: 0.8186\n",
            "Epoch [15/20], Step [10000/10000], Loss: 1.1125\n",
            "--------------------------------------------------\n",
            "Loss of the network on the testset: 3.239949941635132\n",
            "Epoch [16/20], Step [1000/10000], Loss: 1.2376\n",
            "Epoch [16/20], Step [2000/10000], Loss: 0.8164\n",
            "Epoch [16/20], Step [3000/10000], Loss: 0.7141\n",
            "Epoch [16/20], Step [4000/10000], Loss: 0.9076\n",
            "Epoch [16/20], Step [5000/10000], Loss: 0.9871\n",
            "Epoch [16/20], Step [6000/10000], Loss: 1.2370\n",
            "Epoch [16/20], Step [7000/10000], Loss: 0.6549\n",
            "Epoch [16/20], Step [8000/10000], Loss: 1.1577\n",
            "Epoch [16/20], Step [9000/10000], Loss: 0.6396\n",
            "Epoch [16/20], Step [10000/10000], Loss: 0.9126\n",
            "--------------------------------------------------\n",
            "Loss of the network on the testset: 3.3990345001220703\n",
            "Epoch [17/20], Step [1000/10000], Loss: 0.6663\n",
            "Epoch [17/20], Step [2000/10000], Loss: 0.8884\n",
            "Epoch [17/20], Step [3000/10000], Loss: 0.2977\n",
            "Epoch [17/20], Step [4000/10000], Loss: 0.5777\n",
            "Epoch [17/20], Step [5000/10000], Loss: 0.8729\n",
            "Epoch [17/20], Step [6000/10000], Loss: 1.6502\n",
            "Epoch [17/20], Step [7000/10000], Loss: 0.7964\n",
            "Epoch [17/20], Step [8000/10000], Loss: 0.8843\n",
            "Epoch [17/20], Step [9000/10000], Loss: 0.6644\n",
            "Epoch [17/20], Step [10000/10000], Loss: 0.3779\n",
            "--------------------------------------------------\n",
            "Loss of the network on the testset: 3.2142953872680664\n",
            "Epoch [18/20], Step [1000/10000], Loss: 0.7529\n",
            "Epoch [18/20], Step [2000/10000], Loss: 0.9936\n",
            "Epoch [18/20], Step [3000/10000], Loss: 0.4702\n",
            "Epoch [18/20], Step [4000/10000], Loss: 0.4384\n",
            "Epoch [18/20], Step [5000/10000], Loss: 1.0945\n",
            "Epoch [18/20], Step [6000/10000], Loss: 1.2575\n",
            "Epoch [18/20], Step [7000/10000], Loss: 1.1333\n",
            "Epoch [18/20], Step [8000/10000], Loss: 1.3370\n",
            "Epoch [18/20], Step [9000/10000], Loss: 0.8040\n",
            "Epoch [18/20], Step [10000/10000], Loss: 0.9919\n",
            "--------------------------------------------------\n",
            "Loss of the network on the testset: 3.4885599613189697\n",
            "Epoch [19/20], Step [1000/10000], Loss: 1.0788\n",
            "Epoch [19/20], Step [2000/10000], Loss: 0.5034\n",
            "Epoch [19/20], Step [3000/10000], Loss: 0.8681\n",
            "Epoch [19/20], Step [4000/10000], Loss: 0.5655\n",
            "Epoch [19/20], Step [5000/10000], Loss: 1.5742\n",
            "Epoch [19/20], Step [6000/10000], Loss: 0.9799\n",
            "Epoch [19/20], Step [7000/10000], Loss: 0.7101\n",
            "Epoch [19/20], Step [8000/10000], Loss: 1.4583\n",
            "Epoch [19/20], Step [9000/10000], Loss: 1.1719\n",
            "Epoch [19/20], Step [10000/10000], Loss: 0.8841\n",
            "--------------------------------------------------\n",
            "Loss of the network on the testset: 3.47465443611145\n",
            "Epoch [20/20], Step [1000/10000], Loss: 1.0474\n",
            "Epoch [20/20], Step [2000/10000], Loss: 0.9832\n",
            "Epoch [20/20], Step [3000/10000], Loss: 1.0151\n",
            "Epoch [20/20], Step [4000/10000], Loss: 0.9549\n",
            "Epoch [20/20], Step [5000/10000], Loss: 0.5580\n",
            "Epoch [20/20], Step [6000/10000], Loss: 0.5691\n",
            "Epoch [20/20], Step [7000/10000], Loss: 0.8643\n",
            "Epoch [20/20], Step [8000/10000], Loss: 0.9152\n",
            "Epoch [20/20], Step [9000/10000], Loss: 1.2652\n",
            "Epoch [20/20], Step [10000/10000], Loss: 1.4503\n",
            "--------------------------------------------------\n",
            "Loss of the network on the testset: 3.442324161529541\n"
          ]
        }
      ]
    },
    {
      "cell_type": "code",
      "metadata": {
        "colab": {
          "base_uri": "https://localhost:8080/"
        },
        "id": "mkMj7TebOWEY",
        "outputId": "aead68f8-6f98-4e1a-d2c2-a4b70c9b7000"
      },
      "source": [
        "np.shape(train_loss)"
      ],
      "execution_count": null,
      "outputs": [
        {
          "output_type": "execute_result",
          "data": {
            "text/plain": [
              "(200,)"
            ]
          },
          "metadata": {},
          "execution_count": 63
        }
      ]
    },
    {
      "cell_type": "markdown",
      "metadata": {
        "id": "f5LuwjAtUVRj"
      },
      "source": [
        "Gonna take too long to run so only go through the testset once every epoch instead of per 1k updates"
      ]
    },
    {
      "cell_type": "code",
      "metadata": {
        "colab": {
          "base_uri": "https://localhost:8080/",
          "height": 591
        },
        "id": "O87Q4iljGenA",
        "outputId": "eafdaa12-bfa1-4629-9a34-c2adb96dda03"
      },
      "source": [
        "import matplotlib.pyplot as plt\n",
        "\n",
        "plt.figure(); plt.plot(range(200), train_loss); plt.title('Training Loss per 1k updates');plt.xlabel('updates /in thousand')\n",
        "plt.figure(); plt.plot(range(20), test_loss); plt.title('Test Loss per epoch'); plt.xticks(range(20)); plt.xlabel('epochs')"
      ],
      "execution_count": null,
      "outputs": [
        {
          "output_type": "execute_result",
          "data": {
            "text/plain": [
              "Text(0.5, 0, 'epochs')"
            ]
          },
          "metadata": {},
          "execution_count": 80
        },
        {
          "output_type": "display_data",
          "data": {
            "image/png": "[encoded data removed]",
            "text/plain": [
              "<Figure size 432x288 with 1 Axes>"
            ]
          },
          "metadata": {
            "needs_background": "light"
          }
        },
        {
          "output_type": "display_data",
          "data": {
            "image/png": "[encoded data removed]",
            "text/plain": [
              "<Figure size 432x288 with 1 Axes>"
            ]
          },
          "metadata": {
            "needs_background": "light"
          }
        }
      ]
    },
    {
      "cell_type": "markdown",
      "metadata": {
        "id": "SZnfZGAVUgD-"
      },
      "source": [
        "Input characters into model and transfer output from int to chars"
      ]
    },
    {
      "cell_type": "code",
      "metadata": {
        "id": "bwQ6MRHWPlkU"
      },
      "source": [
        "def predict(model, char):\n",
        "  char = np.array([[char2int[c] for c in char]])\n",
        "  char = oneHotEncoder(dict_size, char.shape[1], char, 1)\n",
        "  char = torch.from_numpy(char)\n",
        "  char = char.to(device)\n",
        "\n",
        "  out, hidden = model(char)\n",
        "\n",
        "  prob = nn.functional.softmax(out[-1], dim=0).data\n",
        "  char_ind = torch.max(prob, dim=0)[1].item()\n",
        "\n",
        "  return int2char[char_ind], hidden"
      ],
      "execution_count": null,
      "outputs": []
    },
    {
      "cell_type": "code",
      "metadata": {
        "id": "ZvO5k9Z9QbPN"
      },
      "source": [
        "def sample(model, out_len, start):\n",
        "  model.eval()\n",
        "  chars = [c for c in start]\n",
        "  size = out_len - len(chars)\n",
        "  \n",
        "  for i in range(200):\n",
        "    char, h = predict(model, chars)\n",
        "    chars.append(char)\n",
        "\n",
        "  return ''.join(chars)"
      ],
      "execution_count": null,
      "outputs": []
    },
    {
      "cell_type": "code",
      "metadata": {
        "colab": {
          "base_uri": "https://localhost:8080/",
          "height": 35
        },
        "id": "cA9yorf4ek-U",
        "outputId": "25603454-6ba6-4f28-a829-44ddf2f5e82d"
      },
      "source": [
        "sample(model, 25, 'this')"
      ],
      "execution_count": null,
      "outputs": [
        {
          "output_type": "execute_result",
          "data": {
            "application/vnd.google.colaboratory.intrinsic+json": {
              "type": "string"
            },
            "text/plain": [
              "'this ingiter? Betmaply ended court. He cres all Englishe said at last. \"You know that has been decirid he in Furke to had been\\rpus it?\" said the prince bowed with ant or\\rhis all yourseve that morench rald'"
            ]
          },
          "metadata": {},
          "execution_count": 77
        }
      ]
    }
  ]
}