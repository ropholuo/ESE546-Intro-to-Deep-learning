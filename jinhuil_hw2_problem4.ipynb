{
  "nbformat": 4,
  "nbformat_minor": 0,
  "metadata": {
    "colab": {
      "name": "jinhuil_hw2_problem4.ipynb",
      "provenance": [],
      "collapsed_sections": [],
      "machine_shape": "hm",
      "include_colab_link": true
    },
    "kernelspec": {
      "name": "python3",
      "display_name": "Python 3"
    },
    "language_info": {
      "name": "python"
    },
    "accelerator": "GPU"
  },
  "cells": [
    {
      "cell_type": "markdown",
      "metadata": {
        "id": "view-in-github",
        "colab_type": "text"
      },
      "source": [
        "<a href=\"https://colab.research.google.com/github/ropholuo/ESE546-Intro-to-Deep-learning/blob/main/jinhuil_hw2_problem4.ipynb\" target=\"_parent\"><img src=\"https://colab.research.google.com/assets/colab-badge.svg\" alt=\"Open In Colab\"/></a>"
      ]
    },
    {
      "cell_type": "markdown",
      "metadata": {
        "id": "TZj2hVkOPmwB"
      },
      "source": [
        "# Problem 4 \n",
        "Jinhui Luo  42838256"
      ]
    },
    {
      "cell_type": "code",
      "metadata": {
        "id": "oeS0RBGBPX6r",
        "colab": {
          "base_uri": "https://localhost:8080/"
        },
        "outputId": "d723bc2f-bf0f-4ab0-e6da-1d35fbcd7dd7"
      },
      "source": [
        "LOG_DIR = './logs'\n",
        "get_ipython().system_raw(\n",
        "    'tensorboard --logdir {} --host 0.0.0.0 --port 6006 &'\n",
        "    .format(LOG_DIR)\n",
        ")\n",
        "\n",
        "!if [ -f ngrok ] ; then echo \"Ngrok already installed\" ; else wget https://bin.equinox.io/c/4VmDzA7iaHb/ngrok-stable-linux-amd64.zip > /dev/null 2>&1 && unzip ngrok-stable-linux-amd64.zip > /dev/null 2>&1 ; fi\n"
      ],
      "execution_count": null,
      "outputs": [
        {
          "output_type": "stream",
          "name": "stdout",
          "text": [
            "Ngrok already installed\n"
          ]
        }
      ]
    },
    {
      "cell_type": "code",
      "metadata": {
        "id": "lk87adLMQnON"
      },
      "source": [
        "get_ipython().system_raw('./ngrok http 6006 &')"
      ],
      "execution_count": null,
      "outputs": []
    },
    {
      "cell_type": "code",
      "metadata": {
        "colab": {
          "base_uri": "https://localhost:8080/"
        },
        "id": "tBgzMkJS966g",
        "outputId": "3c3fd73c-1e28-4c18-f610-87ea13757758"
      },
      "source": [
        "!./ngrok authtoken 1zKZnwOzbJkGwK18RJSF7uj3G2a_2Fm6tUcpYsY5nAztRJ6gH"
      ],
      "execution_count": null,
      "outputs": [
        {
          "output_type": "stream",
          "name": "stdout",
          "text": [
            "Authtoken saved to configuration file: /root/.ngrok2/ngrok.yml\n"
          ]
        }
      ]
    },
    {
      "cell_type": "code",
      "metadata": {
        "colab": {
          "base_uri": "https://localhost:8080/"
        },
        "id": "bnf9Uou3QtQj",
        "outputId": "61e06e6a-4262-4dd2-cd56-707b26715690"
      },
      "source": [
        "! curl -s http://localhost:4040/api/tunnels | python3 -c \\\n",
        "    \"import sys, json; print('Tensorboard Link: ' +str(json.load(sys.stdin)['tunnels'][0]['public_url']))\""
      ],
      "execution_count": null,
      "outputs": [
        {
          "output_type": "stream",
          "name": "stdout",
          "text": [
            "Tensorboard Link: http://9053-104-198-59-2.ngrok.io\n"
          ]
        }
      ]
    },
    {
      "cell_type": "code",
      "metadata": {
        "colab": {
          "base_uri": "https://localhost:8080/"
        },
        "id": "opxo_qTwQ-lK",
        "outputId": "931ab8d7-ade7-426e-bfd8-baec7464a38e"
      },
      "source": [
        "# Code referenced from https://gist.github.com/gyglim/1f8dfb1b5c82627ae3efcfbbadb9f514\n",
        "import tensorflow.compat.v1 as tf\n",
        "tf.disable_v2_behavior()\n",
        "import numpy as np\n",
        "import scipy.misc \n",
        "try:\n",
        "    from StringIO import StringIO  # Python 2.7\n",
        "except ImportError:\n",
        "    from io import BytesIO         # Python 3.x\n",
        "\n",
        "\n",
        "class Logger(object):\n",
        "    \n",
        "    def __init__(self, log_dir):\n",
        "        \"\"\"Create a summary writer logging to log_dir.\"\"\"\n",
        "        self.writer = tf.summary.FileWriter(log_dir)\n",
        "\n",
        "    def scalar_summary(self, tag, value, step):\n",
        "        \"\"\"Log a scalar variable.\"\"\"\n",
        "        summary = tf.Summary(value=[tf.Summary.Value(tag=tag, simple_value=value)])\n",
        "        self.writer.add_summary(summary, step)\n",
        "\n",
        "    def image_summary(self, tag, images, step):\n",
        "        \"\"\"Log a list of images.\"\"\"\n",
        "\n",
        "        img_summaries = []\n",
        "        for i, img in enumerate(images):\n",
        "            # Write the image to a string\n",
        "            try:\n",
        "                s = StringIO()\n",
        "            except:\n",
        "                s = BytesIO()\n",
        "            scipy.misc.toimage(img).save(s, format=\"png\")\n",
        "\n",
        "            # Create an Image object\n",
        "            img_sum = tf.Summary.Image(encoded_image_string=s.getvalue(),\n",
        "                                       height=img.shape[0],\n",
        "                                       width=img.shape[1])\n",
        "            # Create a Summary value\n",
        "            img_summaries.append(tf.Summary.Value(tag='%s/%d' % (tag, i), image=img_sum))\n",
        "\n",
        "        # Create and write Summary\n",
        "        summary = tf.Summary(value=img_summaries)\n",
        "        self.writer.add_summary(summary, step)\n",
        "        \n",
        "    def histo_summary(self, tag, values, step, bins=1000):\n",
        "        \"\"\"Log a histogram of the tensor of values.\"\"\"\n",
        "\n",
        "        # Create a histogram using numpy\n",
        "        counts, bin_edges = np.histogram(values, bins=bins)\n",
        "\n",
        "        # Fill the fields of the histogram proto\n",
        "        hist = tf.HistogramProto()\n",
        "        hist.min = float(np.min(values))\n",
        "        hist.max = float(np.max(values))\n",
        "        hist.num = int(np.prod(values.shape))\n",
        "        hist.sum = float(np.sum(values))\n",
        "        hist.sum_squares = float(np.sum(values**2))\n",
        "\n",
        "        # Drop the start of the first bin\n",
        "        bin_edges = bin_edges[1:]\n",
        "\n",
        "        # Add bin edges and counts\n",
        "        for edge in bin_edges:\n",
        "            hist.bucket_limit.append(edge)\n",
        "        for c in counts:\n",
        "            hist.bucket.append(c)\n",
        "\n",
        "        # Create and write Summary\n",
        "        summary = tf.Summary(value=[tf.Summary.Value(tag=tag, histo=hist)])\n",
        "        self.writer.add_summary(summary, step)\n",
        "        self.writer.flush()\n",
        "\n",
        "  "
      ],
      "execution_count": null,
      "outputs": [
        {
          "output_type": "stream",
          "name": "stdout",
          "text": [
            "WARNING:tensorflow:From /usr/local/lib/python3.7/dist-packages/tensorflow/python/compat/v2_compat.py:101: disable_resource_variables (from tensorflow.python.ops.variable_scope) is deprecated and will be removed in a future version.\n",
            "Instructions for updating:\n",
            "non-resource variables are not supported in the long term\n"
          ]
        }
      ]
    },
    {
      "cell_type": "code",
      "metadata": {
        "id": "YNePWKm0RB26"
      },
      "source": [
        "# torch and torchvision imports\n",
        "import torch\n",
        "import torchvision\n",
        "import torch.nn as nn\n",
        "import torchvision.transforms as transforms\n",
        "import torch.optim as optim\n",
        "\n",
        "logger = Logger('./logs')\n",
        "device = torch.device('cuda' if torch.cuda.is_available() else 'cpu')     "
      ],
      "execution_count": null,
      "outputs": []
    },
    {
      "cell_type": "code",
      "metadata": {
        "colab": {
          "base_uri": "https://localhost:8080/"
        },
        "id": "OffbtHNKSdt3",
        "outputId": "e5da00b8-df45-42fc-b241-5080d4ac6e76"
      },
      "source": [
        "import numpy as np\n",
        "import matplotlib.pyplot as plt\n",
        "\n",
        "# Reading in the dataset\n",
        "transform = transforms.Compose(\n",
        "    [transforms.ToTensor(),\n",
        "     transforms.Normalize((0.5, 0.5, 0.5), (0.5, 0.5, 0.5))])\n",
        "\n",
        "trainset = torchvision.datasets.CIFAR10(root='./data', train=True,\n",
        "                                        download=True, transform=transform)\n",
        "trainloader = torch.utils.data.DataLoader(trainset, batch_size=16,\n",
        "                                          shuffle=True)\n",
        "\n",
        "testset = torchvision.datasets.CIFAR10(root='./data', train=False,\n",
        "                                       download=True, transform=transform)\n",
        "testloader = torch.utils.data.DataLoader(testset, batch_size=16,\n",
        "                                         shuffle=False)\n",
        "\n",
        "classes = ('plane', 'car', 'bird', 'cat',\n",
        "           'deer', 'dog', 'frog', 'horse', 'ship', 'truck')\n",
        "\n",
        "\n",
        "# Defining the model\n",
        "class View(nn.Module):\n",
        "    def __init__(self,o):\n",
        "        super().__init__()\n",
        "        self.o = o\n",
        "\n",
        "    def forward(self,x):\n",
        "        return x.view(-1, self.o)\n",
        "    \n",
        "class allcnn_t(nn.Module):\n",
        "    def __init__(self, c1=96, c2= 192):\n",
        "        super().__init__()\n",
        "        d = 0.5\n",
        "\n",
        "        def convbn(ci,co,ksz,s=1,pz=0):\n",
        "            return nn.Sequential(\n",
        "                nn.Conv2d(ci,co,ksz,stride=s,padding=pz),\n",
        "                nn.ReLU(True),\n",
        "                nn.BatchNorm2d(co))\n",
        "\n",
        "        self.m = nn.Sequential(\n",
        "            nn.Dropout(0.2),\n",
        "            convbn(3,c1,3,1,1),\n",
        "            convbn(c1,c1,3,1,1),\n",
        "            convbn(c1,c1,3,2,1),\n",
        "            nn.Dropout(d),\n",
        "            convbn(c1,c2,3,1,1),\n",
        "            convbn(c2,c2,3,1,1),\n",
        "            convbn(c2,c2,3,2,1),\n",
        "            nn.Dropout(d),\n",
        "            convbn(c2,c2,3,1,1),\n",
        "            convbn(c2,c2,3,1,1),\n",
        "            convbn(c2,10,1,1),\n",
        "            nn.AvgPool2d(8),\n",
        "            View(10))\n",
        "\n",
        "        print('Num parameters: ', sum([p.numel() for p in self.m.parameters()]))\n",
        "\n",
        "    def forward(self, x):\n",
        "        return self.m(x)\n",
        "\n",
        "# The training loop\n",
        "\n",
        "def train(net, optimizer, criterion, train_loader, test_loader, epochs, model_name, plot):\n",
        "    model = net.to(device)\n",
        "    total_step = len(train_loader)\n",
        "    overall_step = 0\n",
        "    train_loss, accuracy = [], []\n",
        "    for epoch in range(epochs):\n",
        "      correct = 0\n",
        "      total = 0\n",
        "      model.train()\n",
        "      for i, (images, labels) in enumerate(train_loader):\n",
        "          # Move tensors to configured device\n",
        "          images = images.to(device)\n",
        "          labels = labels.to(device)\n",
        "          #Forward Pass\n",
        "          outputs = model(images)\n",
        "          loss = criterion(outputs, labels)\n",
        "          optimizer.zero_grad()\n",
        "          loss.backward()\n",
        "          optimizer.step()\n",
        "          if (i+1) % 1000 == 0:\n",
        "            print ('Epoch [{}/{}], Step [{}/{}], Loss: {:.4f}'.format(epoch+1, epochs, i+1, total_step, loss.item()))\n",
        "\n",
        "      if plot:\n",
        "        info = { ('training_loss_' + model_name): loss.item() }\n",
        "\n",
        "        for tag, value in info.items():\n",
        "          logger.scalar_summary(tag, value, epoch+1)\n",
        "\n",
        "      train_loss.append(loss.item())\n",
        "      scheduler.step()\n",
        "\n",
        "      model.eval()\n",
        "      with torch.no_grad():\n",
        "        correct = 0\n",
        "        total = 0\n",
        "        for i, (images, labels) in enumerate(test_loader):\n",
        "            images = images.to(device)\n",
        "            labels = labels.to(device)\n",
        "            outputs = model(images)\n",
        "            _, predicted = torch.max(outputs.data, 1)\n",
        "            total += labels.size(0)\n",
        "            correct += (predicted == labels).sum().item()\n",
        "      if plot:\n",
        "        info = { ('testing_accuracy_' + model_name): 100 * correct / total }\n",
        "\n",
        "        for tag, value in info.items():\n",
        "          logger.scalar_summary(tag, value, epoch+1)\n",
        "      print('Accuracy of the network on the test images: {} %'.format(100 * correct / total))\n",
        "      accuracy.append(100 * correct / total)\n",
        "\n",
        "    # epo = list[range(1, 70)]\n",
        "    # fig, (ax1, ax2) = plt.subplots(2, 1)\n",
        "    # ax1.plot(epo, train_loss, 'o-')\n",
        "    # ax1.set_ylabel('Training loss')\n",
        "\n",
        "    # ax2.plot(epo, accuracy, 'o-')\n",
        "    # ax2.set_xlabel('Number of epoch')\n",
        "    # ax2.set_ylabel('Tesing accuracy')\n",
        "\n",
        "    # plt.show()\n",
        "\n",
        "\n",
        "\n",
        "\n",
        "model = allcnn_t().to(device)\n",
        "#TODO: Set it as number of epochs states in the question\n",
        "epochs = 70\n",
        "# TODO: Define the loss function as asked in the question\n",
        "criterion = nn.CrossEntropyLoss()\n",
        "# TODO: Set parameters as stated in the question\n",
        "optimizer = optim.SGD(model.parameters(), lr=0.01, momentum=0.9, weight_decay=10**(-3))\n",
        "# TODO: Set milestones for stepping learning rate\n",
        "scheduler = optim.lr_scheduler.MultiStepLR(optimizer, milestones=[28,56], gamma=0.1)\n",
        "# Training loop called here\n",
        "train(model, optimizer, criterion, trainloader, testloader, epochs, 'cnn', True)\n",
        "\n",
        "# # Print model's state_dict\n",
        "# print(\"Model's state_dict:\")\n",
        "# for param_tensor in model.state_dict():\n",
        "#     print(param_tensor, \"\\t\", model.state_dict()[param_tensor].size())\n",
        "\n",
        "# # Print optimizer's state_dict\n",
        "# print(\"Optimizer's state_dict:\")\n",
        "# for var_name in optimizer.state_dict():\n",
        "#     print(var_name, \"\\t\", optimizer.state_dict()[var_name])"
      ],
      "execution_count": null,
      "outputs": [
        {
          "output_type": "stream",
          "name": "stdout",
          "text": [
            "Files already downloaded and verified\n",
            "Files already downloaded and verified\n",
            "Num parameters:  1667166\n",
            "Epoch [1/70], Step [1000/3125], Loss: 1.4562\n",
            "Epoch [1/70], Step [2000/3125], Loss: 1.2126\n",
            "Epoch [1/70], Step [3000/3125], Loss: 1.3224\n",
            "Accuracy of the network on the test images: 51.83 %\n",
            "Epoch [2/70], Step [1000/3125], Loss: 0.9412\n",
            "Epoch [2/70], Step [2000/3125], Loss: 1.3777\n",
            "Epoch [2/70], Step [3000/3125], Loss: 1.2637\n",
            "Accuracy of the network on the test images: 62.57 %\n",
            "Epoch [3/70], Step [1000/3125], Loss: 0.8119\n",
            "Epoch [3/70], Step [2000/3125], Loss: 0.9870\n",
            "Epoch [3/70], Step [3000/3125], Loss: 0.9357\n",
            "Accuracy of the network on the test images: 65.4 %\n",
            "Epoch [4/70], Step [1000/3125], Loss: 0.8655\n",
            "Epoch [4/70], Step [2000/3125], Loss: 0.8690\n",
            "Epoch [4/70], Step [3000/3125], Loss: 1.3571\n",
            "Accuracy of the network on the test images: 69.16 %\n",
            "Epoch [5/70], Step [1000/3125], Loss: 1.1996\n",
            "Epoch [5/70], Step [2000/3125], Loss: 1.4636\n",
            "Epoch [5/70], Step [3000/3125], Loss: 0.7050\n",
            "Accuracy of the network on the test images: 72.25 %\n",
            "Epoch [6/70], Step [1000/3125], Loss: 1.1941\n",
            "Epoch [6/70], Step [2000/3125], Loss: 1.0521\n",
            "Epoch [6/70], Step [3000/3125], Loss: 1.0483\n",
            "Accuracy of the network on the test images: 72.98 %\n",
            "Epoch [7/70], Step [1000/3125], Loss: 0.9485\n",
            "Epoch [7/70], Step [2000/3125], Loss: 0.8747\n",
            "Epoch [7/70], Step [3000/3125], Loss: 0.5870\n",
            "Accuracy of the network on the test images: 70.43 %\n",
            "Epoch [8/70], Step [1000/3125], Loss: 0.8587\n",
            "Epoch [8/70], Step [2000/3125], Loss: 1.1712\n",
            "Epoch [8/70], Step [3000/3125], Loss: 1.0482\n",
            "Accuracy of the network on the test images: 76.07 %\n",
            "Epoch [9/70], Step [1000/3125], Loss: 0.4620\n",
            "Epoch [9/70], Step [2000/3125], Loss: 0.9010\n",
            "Epoch [9/70], Step [3000/3125], Loss: 0.9229\n",
            "Accuracy of the network on the test images: 77.05 %\n",
            "Epoch [10/70], Step [1000/3125], Loss: 0.6292\n",
            "Epoch [10/70], Step [2000/3125], Loss: 0.5090\n",
            "Epoch [10/70], Step [3000/3125], Loss: 0.8199\n",
            "Accuracy of the network on the test images: 76.97 %\n",
            "Epoch [11/70], Step [1000/3125], Loss: 0.6912\n",
            "Epoch [11/70], Step [2000/3125], Loss: 0.5971\n",
            "Epoch [11/70], Step [3000/3125], Loss: 0.9979\n",
            "Accuracy of the network on the test images: 77.29 %\n",
            "Epoch [12/70], Step [1000/3125], Loss: 0.9250\n",
            "Epoch [12/70], Step [2000/3125], Loss: 0.6907\n",
            "Epoch [12/70], Step [3000/3125], Loss: 0.6612\n",
            "Accuracy of the network on the test images: 72.32 %\n",
            "Epoch [13/70], Step [1000/3125], Loss: 1.3502\n",
            "Epoch [13/70], Step [2000/3125], Loss: 0.2406\n",
            "Epoch [13/70], Step [3000/3125], Loss: 1.1121\n",
            "Accuracy of the network on the test images: 75.99 %\n",
            "Epoch [14/70], Step [1000/3125], Loss: 0.6420\n",
            "Epoch [14/70], Step [2000/3125], Loss: 0.5732\n",
            "Epoch [14/70], Step [3000/3125], Loss: 0.7219\n",
            "Accuracy of the network on the test images: 76.63 %\n",
            "Epoch [15/70], Step [1000/3125], Loss: 0.6106\n",
            "Epoch [15/70], Step [2000/3125], Loss: 0.8177\n",
            "Epoch [15/70], Step [3000/3125], Loss: 0.6754\n",
            "Accuracy of the network on the test images: 73.33 %\n",
            "Epoch [16/70], Step [1000/3125], Loss: 0.9428\n",
            "Epoch [16/70], Step [2000/3125], Loss: 0.5456\n",
            "Epoch [16/70], Step [3000/3125], Loss: 0.3606\n",
            "Accuracy of the network on the test images: 79.51 %\n",
            "Epoch [17/70], Step [1000/3125], Loss: 0.3781\n",
            "Epoch [17/70], Step [2000/3125], Loss: 0.9956\n",
            "Epoch [17/70], Step [3000/3125], Loss: 0.5471\n",
            "Accuracy of the network on the test images: 78.87 %\n",
            "Epoch [18/70], Step [1000/3125], Loss: 0.5799\n",
            "Epoch [18/70], Step [2000/3125], Loss: 1.4818\n",
            "Epoch [18/70], Step [3000/3125], Loss: 0.9798\n",
            "Accuracy of the network on the test images: 77.65 %\n",
            "Epoch [19/70], Step [1000/3125], Loss: 0.9301\n",
            "Epoch [19/70], Step [2000/3125], Loss: 0.9884\n",
            "Epoch [19/70], Step [3000/3125], Loss: 1.0678\n",
            "Accuracy of the network on the test images: 78.54 %\n",
            "Epoch [20/70], Step [1000/3125], Loss: 1.3670\n",
            "Epoch [20/70], Step [2000/3125], Loss: 0.5774\n",
            "Epoch [20/70], Step [3000/3125], Loss: 0.4523\n",
            "Accuracy of the network on the test images: 73.4 %\n",
            "Epoch [21/70], Step [1000/3125], Loss: 0.9211\n",
            "Epoch [21/70], Step [2000/3125], Loss: 0.5209\n",
            "Epoch [21/70], Step [3000/3125], Loss: 0.5322\n",
            "Accuracy of the network on the test images: 79.83 %\n",
            "Epoch [22/70], Step [1000/3125], Loss: 0.6147\n",
            "Epoch [22/70], Step [2000/3125], Loss: 1.0644\n",
            "Epoch [22/70], Step [3000/3125], Loss: 0.9209\n",
            "Accuracy of the network on the test images: 79.94 %\n",
            "Epoch [23/70], Step [1000/3125], Loss: 0.5555\n",
            "Epoch [23/70], Step [2000/3125], Loss: 0.5336\n",
            "Epoch [23/70], Step [3000/3125], Loss: 1.2179\n",
            "Accuracy of the network on the test images: 78.4 %\n",
            "Epoch [24/70], Step [1000/3125], Loss: 0.6943\n",
            "Epoch [24/70], Step [2000/3125], Loss: 0.6084\n",
            "Epoch [24/70], Step [3000/3125], Loss: 0.9240\n",
            "Accuracy of the network on the test images: 77.48 %\n",
            "Epoch [25/70], Step [1000/3125], Loss: 0.4401\n",
            "Epoch [25/70], Step [2000/3125], Loss: 0.8837\n",
            "Epoch [25/70], Step [3000/3125], Loss: 0.4252\n",
            "Accuracy of the network on the test images: 77.55 %\n",
            "Epoch [26/70], Step [1000/3125], Loss: 0.6077\n",
            "Epoch [26/70], Step [2000/3125], Loss: 1.0093\n",
            "Epoch [26/70], Step [3000/3125], Loss: 0.6298\n",
            "Accuracy of the network on the test images: 78.77 %\n",
            "Epoch [27/70], Step [1000/3125], Loss: 0.6759\n",
            "Epoch [27/70], Step [2000/3125], Loss: 0.6938\n",
            "Epoch [27/70], Step [3000/3125], Loss: 0.6648\n",
            "Accuracy of the network on the test images: 75.58 %\n",
            "Epoch [28/70], Step [1000/3125], Loss: 0.6883\n",
            "Epoch [28/70], Step [2000/3125], Loss: 0.5112\n",
            "Epoch [28/70], Step [3000/3125], Loss: 1.1020\n",
            "Accuracy of the network on the test images: 76.82 %\n",
            "Epoch [29/70], Step [1000/3125], Loss: 0.2338\n",
            "Epoch [29/70], Step [2000/3125], Loss: 0.5537\n",
            "Epoch [29/70], Step [3000/3125], Loss: 0.3903\n",
            "Accuracy of the network on the test images: 85.34 %\n",
            "Epoch [30/70], Step [1000/3125], Loss: 0.6565\n",
            "Epoch [30/70], Step [2000/3125], Loss: 0.5165\n",
            "Epoch [30/70], Step [3000/3125], Loss: 0.2903\n",
            "Accuracy of the network on the test images: 85.01 %\n",
            "Epoch [31/70], Step [1000/3125], Loss: 0.3939\n",
            "Epoch [31/70], Step [2000/3125], Loss: 0.2002\n",
            "Epoch [31/70], Step [3000/3125], Loss: 0.1573\n",
            "Accuracy of the network on the test images: 86.6 %\n",
            "Epoch [32/70], Step [1000/3125], Loss: 0.3821\n",
            "Epoch [32/70], Step [2000/3125], Loss: 0.2727\n",
            "Epoch [32/70], Step [3000/3125], Loss: 0.2321\n",
            "Accuracy of the network on the test images: 86.61 %\n",
            "Epoch [33/70], Step [1000/3125], Loss: 0.3336\n",
            "Epoch [33/70], Step [2000/3125], Loss: 0.4642\n",
            "Epoch [33/70], Step [3000/3125], Loss: 0.1117\n",
            "Accuracy of the network on the test images: 86.69 %\n",
            "Epoch [34/70], Step [1000/3125], Loss: 0.4612\n",
            "Epoch [34/70], Step [2000/3125], Loss: 0.1300\n",
            "Epoch [34/70], Step [3000/3125], Loss: 0.7367\n",
            "Accuracy of the network on the test images: 87.71 %\n",
            "Epoch [35/70], Step [1000/3125], Loss: 0.5832\n",
            "Epoch [35/70], Step [2000/3125], Loss: 0.2275\n",
            "Epoch [35/70], Step [3000/3125], Loss: 0.2872\n",
            "Accuracy of the network on the test images: 87.33 %\n",
            "Epoch [36/70], Step [1000/3125], Loss: 0.3836\n",
            "Epoch [36/70], Step [2000/3125], Loss: 0.2419\n",
            "Epoch [36/70], Step [3000/3125], Loss: 0.3210\n",
            "Accuracy of the network on the test images: 85.1 %\n",
            "Epoch [37/70], Step [1000/3125], Loss: 0.4076\n",
            "Epoch [37/70], Step [2000/3125], Loss: 0.1907\n",
            "Epoch [37/70], Step [3000/3125], Loss: 0.2617\n",
            "Accuracy of the network on the test images: 87.16 %\n",
            "Epoch [38/70], Step [1000/3125], Loss: 0.3726\n",
            "Epoch [38/70], Step [2000/3125], Loss: 0.1778\n",
            "Epoch [38/70], Step [3000/3125], Loss: 0.2098\n",
            "Accuracy of the network on the test images: 87.6 %\n",
            "Epoch [39/70], Step [1000/3125], Loss: 0.3505\n",
            "Epoch [39/70], Step [2000/3125], Loss: 0.3025\n",
            "Epoch [39/70], Step [3000/3125], Loss: 0.3106\n",
            "Accuracy of the network on the test images: 87.14 %\n",
            "Epoch [40/70], Step [1000/3125], Loss: 0.4637\n",
            "Epoch [40/70], Step [2000/3125], Loss: 0.3642\n",
            "Epoch [40/70], Step [3000/3125], Loss: 0.2061\n",
            "Accuracy of the network on the test images: 87.48 %\n",
            "Epoch [41/70], Step [1000/3125], Loss: 0.1288\n",
            "Epoch [41/70], Step [2000/3125], Loss: 0.3963\n",
            "Epoch [41/70], Step [3000/3125], Loss: 0.1818\n",
            "Accuracy of the network on the test images: 84.75 %\n",
            "Epoch [42/70], Step [1000/3125], Loss: 0.2695\n",
            "Epoch [42/70], Step [2000/3125], Loss: 0.1524\n",
            "Epoch [42/70], Step [3000/3125], Loss: 0.4052\n",
            "Accuracy of the network on the test images: 84.94 %\n",
            "Epoch [43/70], Step [1000/3125], Loss: 0.2679\n",
            "Epoch [43/70], Step [2000/3125], Loss: 0.2569\n",
            "Epoch [43/70], Step [3000/3125], Loss: 0.2603\n",
            "Accuracy of the network on the test images: 85.12 %\n",
            "Epoch [44/70], Step [1000/3125], Loss: 0.1770\n",
            "Epoch [44/70], Step [2000/3125], Loss: 0.2794\n",
            "Epoch [44/70], Step [3000/3125], Loss: 0.7352\n",
            "Accuracy of the network on the test images: 86.1 %\n",
            "Epoch [45/70], Step [1000/3125], Loss: 0.3803\n",
            "Epoch [45/70], Step [2000/3125], Loss: 0.1284\n",
            "Epoch [45/70], Step [3000/3125], Loss: 0.1560\n",
            "Accuracy of the network on the test images: 86.71 %\n",
            "Epoch [46/70], Step [1000/3125], Loss: 0.5386\n",
            "Epoch [46/70], Step [2000/3125], Loss: 0.0418\n",
            "Epoch [46/70], Step [3000/3125], Loss: 0.1866\n",
            "Accuracy of the network on the test images: 84.52 %\n",
            "Epoch [47/70], Step [1000/3125], Loss: 0.1551\n",
            "Epoch [47/70], Step [2000/3125], Loss: 0.1923\n",
            "Epoch [47/70], Step [3000/3125], Loss: 0.5629\n",
            "Accuracy of the network on the test images: 87.04 %\n",
            "Epoch [48/70], Step [1000/3125], Loss: 0.4585\n",
            "Epoch [48/70], Step [2000/3125], Loss: 0.0940\n",
            "Epoch [48/70], Step [3000/3125], Loss: 0.1477\n",
            "Accuracy of the network on the test images: 87.02 %\n",
            "Epoch [49/70], Step [1000/3125], Loss: 0.5399\n",
            "Epoch [49/70], Step [2000/3125], Loss: 0.2054\n",
            "Epoch [49/70], Step [3000/3125], Loss: 0.4544\n",
            "Accuracy of the network on the test images: 87.4 %\n",
            "Epoch [50/70], Step [1000/3125], Loss: 0.1030\n",
            "Epoch [50/70], Step [2000/3125], Loss: 0.2673\n",
            "Epoch [50/70], Step [3000/3125], Loss: 0.3817\n",
            "Accuracy of the network on the test images: 87.15 %\n",
            "Epoch [51/70], Step [1000/3125], Loss: 0.2903\n",
            "Epoch [51/70], Step [2000/3125], Loss: 0.0889\n",
            "Epoch [51/70], Step [3000/3125], Loss: 0.1194\n",
            "Accuracy of the network on the test images: 87.1 %\n",
            "Epoch [52/70], Step [1000/3125], Loss: 0.3173\n",
            "Epoch [52/70], Step [2000/3125], Loss: 0.1489\n",
            "Epoch [52/70], Step [3000/3125], Loss: 0.5811\n",
            "Accuracy of the network on the test images: 84.61 %\n",
            "Epoch [53/70], Step [1000/3125], Loss: 0.1006\n",
            "Epoch [53/70], Step [2000/3125], Loss: 0.2047\n",
            "Epoch [53/70], Step [3000/3125], Loss: 0.4824\n",
            "Accuracy of the network on the test images: 87.32 %\n",
            "Epoch [54/70], Step [1000/3125], Loss: 0.3574\n",
            "Epoch [54/70], Step [2000/3125], Loss: 0.2191\n",
            "Epoch [54/70], Step [3000/3125], Loss: 0.5049\n",
            "Accuracy of the network on the test images: 85.68 %\n",
            "Epoch [55/70], Step [1000/3125], Loss: 0.2376\n",
            "Epoch [55/70], Step [2000/3125], Loss: 0.0992\n",
            "Epoch [55/70], Step [3000/3125], Loss: 0.1255\n",
            "Accuracy of the network on the test images: 86.94 %\n",
            "Epoch [56/70], Step [1000/3125], Loss: 0.1231\n",
            "Epoch [56/70], Step [2000/3125], Loss: 0.5285\n",
            "Epoch [56/70], Step [3000/3125], Loss: 0.1142\n",
            "Accuracy of the network on the test images: 86.14 %\n",
            "Epoch [57/70], Step [1000/3125], Loss: 0.1174\n",
            "Epoch [57/70], Step [2000/3125], Loss: 0.2425\n",
            "Epoch [57/70], Step [3000/3125], Loss: 0.1214\n",
            "Accuracy of the network on the test images: 87.59 %\n",
            "Epoch [58/70], Step [1000/3125], Loss: 0.1342\n",
            "Epoch [58/70], Step [2000/3125], Loss: 0.0441\n",
            "Epoch [58/70], Step [3000/3125], Loss: 0.1458\n",
            "Accuracy of the network on the test images: 88.51 %\n",
            "Epoch [59/70], Step [1000/3125], Loss: 0.3126\n",
            "Epoch [59/70], Step [2000/3125], Loss: 0.1146\n",
            "Epoch [59/70], Step [3000/3125], Loss: 0.1369\n",
            "Accuracy of the network on the test images: 88.14 %\n",
            "Epoch [60/70], Step [1000/3125], Loss: 0.0433\n",
            "Epoch [60/70], Step [2000/3125], Loss: 0.0697\n",
            "Epoch [60/70], Step [3000/3125], Loss: 0.0821\n",
            "Accuracy of the network on the test images: 88.5 %\n",
            "Epoch [61/70], Step [1000/3125], Loss: 0.1860\n",
            "Epoch [61/70], Step [2000/3125], Loss: 0.3172\n",
            "Epoch [61/70], Step [3000/3125], Loss: 0.1914\n",
            "Accuracy of the network on the test images: 88.41 %\n",
            "Epoch [62/70], Step [1000/3125], Loss: 0.1198\n",
            "Epoch [62/70], Step [2000/3125], Loss: 0.0708\n",
            "Epoch [62/70], Step [3000/3125], Loss: 0.1392\n",
            "Accuracy of the network on the test images: 87.91 %\n",
            "Epoch [63/70], Step [1000/3125], Loss: 0.1297\n",
            "Epoch [63/70], Step [2000/3125], Loss: 0.0286\n",
            "Epoch [63/70], Step [3000/3125], Loss: 0.1658\n",
            "Accuracy of the network on the test images: 88.33 %\n",
            "Epoch [64/70], Step [1000/3125], Loss: 0.2134\n",
            "Epoch [64/70], Step [2000/3125], Loss: 0.0337\n",
            "Epoch [64/70], Step [3000/3125], Loss: 0.0394\n",
            "Accuracy of the network on the test images: 87.59 %\n",
            "Epoch [65/70], Step [1000/3125], Loss: 0.1562\n",
            "Epoch [65/70], Step [2000/3125], Loss: 0.0398\n",
            "Epoch [65/70], Step [3000/3125], Loss: 0.2231\n",
            "Accuracy of the network on the test images: 88.06 %\n",
            "Epoch [66/70], Step [1000/3125], Loss: 0.0489\n",
            "Epoch [66/70], Step [2000/3125], Loss: 0.1116\n",
            "Epoch [66/70], Step [3000/3125], Loss: 0.1521\n",
            "Accuracy of the network on the test images: 87.89 %\n",
            "Epoch [67/70], Step [1000/3125], Loss: 0.1176\n",
            "Epoch [67/70], Step [2000/3125], Loss: 0.2463\n",
            "Epoch [67/70], Step [3000/3125], Loss: 0.0999\n",
            "Accuracy of the network on the test images: 88.39 %\n",
            "Epoch [68/70], Step [1000/3125], Loss: 0.0469\n",
            "Epoch [68/70], Step [2000/3125], Loss: 0.1496\n",
            "Epoch [68/70], Step [3000/3125], Loss: 0.2355\n",
            "Accuracy of the network on the test images: 88.54 %\n",
            "Epoch [69/70], Step [1000/3125], Loss: 0.1853\n",
            "Epoch [69/70], Step [2000/3125], Loss: 0.0528\n",
            "Epoch [69/70], Step [3000/3125], Loss: 0.1009\n",
            "Accuracy of the network on the test images: 88.07 %\n",
            "Epoch [70/70], Step [1000/3125], Loss: 0.0867\n",
            "Epoch [70/70], Step [2000/3125], Loss: 0.1261\n",
            "Epoch [70/70], Step [3000/3125], Loss: 0.2097\n",
            "Accuracy of the network on the test images: 88.79 %\n"
          ]
        }
      ]
    },
    {
      "cell_type": "markdown",
      "metadata": {
        "id": "5yMkJVgpChq-"
      },
      "source": [
        "**Save the model in gdrive**"
      ]
    },
    {
      "cell_type": "code",
      "metadata": {
        "colab": {
          "base_uri": "https://localhost:8080/"
        },
        "id": "yUIm0fc-Xv0t",
        "outputId": "49e736de-38b3-4748-f4db-00a3e9037d21"
      },
      "source": [
        "from google.colab import drive\n",
        "drive.mount('/content/drive')"
      ],
      "execution_count": null,
      "outputs": [
        {
          "output_type": "stream",
          "name": "stdout",
          "text": [
            "Mounted at /content/drive\n"
          ]
        }
      ]
    },
    {
      "cell_type": "code",
      "metadata": {
        "colab": {
          "base_uri": "https://localhost:8080/"
        },
        "id": "VqbYqRNqX_6H",
        "outputId": "844bfcc8-8425-4314-d3b7-9faf56d45a55"
      },
      "source": [
        "!ls /content/drive/MyDrive/Colab Notebooks/ESE546/HW2"
      ],
      "execution_count": null,
      "outputs": [
        {
          "output_type": "stream",
          "name": "stdout",
          "text": [
            "ls: cannot access '/content/drive/MyDrive/Colab': No such file or directory\n",
            "ls: cannot access 'Notebooks/ESE546/HW2': No such file or directory\n"
          ]
        }
      ]
    },
    {
      "cell_type": "code",
      "metadata": {
        "id": "9iu-P2ZoAOoT"
      },
      "source": [
        "model_save_name = 'hw2_p4_model.pt'\n",
        "path = F\"/content/drive/MyDrive/Colab Notebooks/ESE546/HW2/{model_save_name}\"\n",
        "torch.save(model.state_dict(), path)"
      ],
      "execution_count": null,
      "outputs": []
    },
    {
      "cell_type": "code",
      "metadata": {
        "colab": {
          "base_uri": "https://localhost:8080/"
        },
        "id": "qGF77WuQDmW8",
        "outputId": "0e87c2a6-2a98-42d0-f98e-505b52babb23"
      },
      "source": [
        "state_dict = torch.load(path)\n",
        "print(state_dict.keys())"
      ],
      "execution_count": null,
      "outputs": [
        {
          "output_type": "stream",
          "name": "stdout",
          "text": [
            "odict_keys(['m.1.0.weight', 'm.1.0.bias', 'm.1.2.weight', 'm.1.2.bias', 'm.1.2.running_mean', 'm.1.2.running_var', 'm.1.2.num_batches_tracked', 'm.2.0.weight', 'm.2.0.bias', 'm.2.2.weight', 'm.2.2.bias', 'm.2.2.running_mean', 'm.2.2.running_var', 'm.2.2.num_batches_tracked', 'm.3.0.weight', 'm.3.0.bias', 'm.3.2.weight', 'm.3.2.bias', 'm.3.2.running_mean', 'm.3.2.running_var', 'm.3.2.num_batches_tracked', 'm.5.0.weight', 'm.5.0.bias', 'm.5.2.weight', 'm.5.2.bias', 'm.5.2.running_mean', 'm.5.2.running_var', 'm.5.2.num_batches_tracked', 'm.6.0.weight', 'm.6.0.bias', 'm.6.2.weight', 'm.6.2.bias', 'm.6.2.running_mean', 'm.6.2.running_var', 'm.6.2.num_batches_tracked', 'm.7.0.weight', 'm.7.0.bias', 'm.7.2.weight', 'm.7.2.bias', 'm.7.2.running_mean', 'm.7.2.running_var', 'm.7.2.num_batches_tracked', 'm.9.0.weight', 'm.9.0.bias', 'm.9.2.weight', 'm.9.2.bias', 'm.9.2.running_mean', 'm.9.2.running_var', 'm.9.2.num_batches_tracked', 'm.10.0.weight', 'm.10.0.bias', 'm.10.2.weight', 'm.10.2.bias', 'm.10.2.running_mean', 'm.10.2.running_var', 'm.10.2.num_batches_tracked', 'm.11.0.weight', 'm.11.0.bias', 'm.11.2.weight', 'm.11.2.bias', 'm.11.2.running_mean', 'm.11.2.running_var', 'm.11.2.num_batches_tracked'])\n"
          ]
        }
      ]
    },
    {
      "cell_type": "markdown",
      "metadata": {
        "id": "7DSZxpu7jann"
      },
      "source": [
        "**4(b)**"
      ]
    },
    {
      "cell_type": "code",
      "metadata": {
        "id": "yw7rTQAy1Yu8"
      },
      "source": [
        "import torch\n",
        "import torchvision\n",
        "import torch.nn as nn\n",
        "import torchvision.transforms as transforms\n",
        "import torch.optim as optim\n",
        "\n",
        "class allcnn_t(nn.Module):\n",
        "    def __init__(self, c1=96, c2= 192):\n",
        "        super().__init__()\n",
        "        d = 0.5\n",
        "\n",
        "        def convbn(ci,co,ksz,s=1,pz=0):\n",
        "            return nn.Sequential(\n",
        "                nn.Conv2d(ci,co,ksz,stride=s,padding=pz),\n",
        "                nn.ReLU(True),\n",
        "                nn.BatchNorm2d(co))\n",
        "\n",
        "        self.m = nn.Sequential(\n",
        "            nn.Dropout(0.2),\n",
        "            convbn(3,c1,3,1,1),\n",
        "            convbn(c1,c1,3,1,1),\n",
        "            convbn(c1,c1,3,2,1),\n",
        "            nn.Dropout(d),\n",
        "            convbn(c1,c2,3,1,1),\n",
        "            convbn(c2,c2,3,1,1),\n",
        "            convbn(c2,c2,3,2,1),\n",
        "            nn.Dropout(d),\n",
        "            convbn(c2,c2,3,1,1),\n",
        "            convbn(c2,c2,3,1,1),\n",
        "            convbn(c2,10,1,1),\n",
        "            nn.AvgPool2d(8),\n",
        "            View(10))\n",
        "\n",
        "        print('Num parameters: ', sum([p.numel() for p in self.m.parameters()]))\n",
        "\n",
        "    def forward(self, x):\n",
        "        return self.m(x)\n",
        "\n",
        "class View(nn.Module):\n",
        "    def __init__(self,o):\n",
        "        super().__init__()\n",
        "        self.o = o\n",
        "\n",
        "    def forward(self,x):\n",
        "        return x.view(-1, self.o)"
      ],
      "execution_count": null,
      "outputs": []
    },
    {
      "cell_type": "code",
      "metadata": {
        "colab": {
          "base_uri": "https://localhost:8080/"
        },
        "id": "dlCa_dIBbJrF",
        "outputId": "19d748c5-56d9-41df-c96d-d870ece95027"
      },
      "source": [
        "device = torch.device('cuda' if torch.cuda.is_available() else 'cpu') \n",
        "model = allcnn_t().to(device)\n",
        "path = F\"/content/drive/MyDrive/Colab Notebooks/ESE546/HW2/hw2_p4_model.pt\"\n",
        "model.load_state_dict(torch.load(path))"
      ],
      "execution_count": null,
      "outputs": [
        {
          "output_type": "stream",
          "name": "stdout",
          "text": [
            "Num parameters:  1667166\n"
          ]
        },
        {
          "output_type": "execute_result",
          "data": {
            "text/plain": [
              "<All keys matched successfully>"
            ]
          },
          "metadata": {},
          "execution_count": 7
        }
      ]
    },
    {
      "cell_type": "markdown",
      "metadata": {
        "id": "LlTVJdoqwxbV"
      },
      "source": [
        "Plot the gradient for images"
      ]
    },
    {
      "cell_type": "code",
      "metadata": {
        "colab": {
          "base_uri": "https://localhost:8080/",
          "height": 571
        },
        "id": "Bu1smxmKmp-F",
        "outputId": "2d8a18e3-4ebf-43f3-9248-68d400839d1a"
      },
      "source": [
        "for i, (x, y) in enumerate(trainloader):\n",
        "  x = x.to(device)\n",
        "  y = y.to(device)\n",
        "  if i==0:\n",
        "    break\n",
        "\n",
        "model.train()\n",
        "x.requires_grad_()\n",
        "x.retain_grad()\n",
        "yh = model.forward(x)\n",
        "x.requires_grad_()\n",
        "x.retain_grad()\n",
        "loss = nn.CrossEntropyLoss()\n",
        "loss = loss.forward(yh, y)\n",
        "loss.backward()\n",
        "x_grad = x.grad.data.clone()\n",
        "_, predicted = torch.max(yh, 1)\n",
        "\n",
        "pred_correct, pred_incorrect = False, False\n",
        "for i, pred in enumerate(predicted):\n",
        "  if pred_correct == True and pred_incorrect == True:\n",
        "    break\n",
        "\n",
        "  if pred == y[i] and pred_correct == False:\n",
        "    pred_correct = True\n",
        "    img1 = x_grad[i].cpu()\n",
        "    plt.figure()\n",
        "    plt.subplot(311)\n",
        "    plt.imshow(img1[0])\n",
        "    plt.subplot(312)\n",
        "    plt.imshow(img1[1])\n",
        "    plt.subplot(313)\n",
        "    plt.imshow(img1[2])\n",
        "    plt.suptitle('Gradient dx of correctly classified image')\n",
        "\n",
        "  if pred != y[i] and pred_incorrect == False:\n",
        "    pred_incorrect = True\n",
        "    img2 = x_grad[i].cpu()\n",
        "    plt.figure()\n",
        "    plt.subplot(311)\n",
        "    plt.imshow(img2[0])\n",
        "    plt.subplot(312)\n",
        "    plt.imshow(img2[1])\n",
        "    plt.subplot(313)\n",
        "    plt.imshow(img2[2])  \n",
        "    plt.suptitle('Gradient dx of misclassified image')        "
      ],
      "execution_count": null,
      "outputs": [
        {
          "output_type": "display_data",
          "data": {
            "image/png": "[encoded data removed]",
            "text/plain": [
              "<Figure size 432x288 with 3 Axes>"
            ]
          },
          "metadata": {
            "needs_background": "light"
          }
        },
        {
          "output_type": "display_data",
          "data": {
            "image/png": "[encoded data removed]",
            "text/plain": [
              "<Figure size 432x288 with 3 Axes>"
            ]
          },
          "metadata": {
            "needs_background": "light"
          }
        }
      ]
    },
    {
      "cell_type": "markdown",
      "metadata": {
        "id": "fXwjXzI3wuQB"
      },
      "source": [
        "Gradient attack"
      ]
    },
    {
      "cell_type": "code",
      "metadata": {
        "colab": {
          "base_uri": "https://localhost:8080/",
          "height": 102,
          "referenced_widgets": [
            "1ba8ec54608d4cf98c54077ab0147328"
          ]
        },
        "id": "rgnqRzhO0v7F",
        "outputId": "b51da73a-7705-4e80-9e0a-0f542391d2bd"
      },
      "source": [
        "import numpy as np\n",
        "import matplotlib.pyplot as plt\n",
        "\n",
        "# Reading in the dataset\n",
        "transform = transforms.Compose(\n",
        "    [transforms.ToTensor(),\n",
        "     transforms.Normalize((0.5, 0.5, 0.5), (0.5, 0.5, 0.5))])\n",
        "\n",
        "trainset = torchvision.datasets.CIFAR10(root='./data', train=True,\n",
        "                                        download=True, transform=transform)\n",
        "trainloader = torch.utils.data.DataLoader(trainset, batch_size=16,\n",
        "                                          shuffle=True)\n",
        "\n",
        "testset = torchvision.datasets.CIFAR10(root='./data', train=False,\n",
        "                                       download=True, transform=transform)\n",
        "testloader = torch.utils.data.DataLoader(testset, batch_size=16,\n",
        "                                         shuffle=False)\n",
        "\n",
        "classes = ('plane', 'car', 'bird', 'cat',\n",
        "           'deer', 'dog', 'frog', 'horse', 'ship', 'truck')"
      ],
      "execution_count": null,
      "outputs": [
        {
          "output_type": "stream",
          "name": "stdout",
          "text": [
            "Downloading https://www.cs.toronto.edu/~kriz/cifar-10-python.tar.gz to ./data/cifar-10-python.tar.gz\n"
          ]
        },
        {
          "output_type": "display_data",
          "data": {
            "application/vnd.jupyter.widget-view+json": {
              "model_id": "1ba8ec54608d4cf98c54077ab0147328",
              "version_minor": 0,
              "version_major": 2
            },
            "text/plain": [
              "  0%|          | 0/170498071 [00:00<?, ?it/s]"
            ]
          },
          "metadata": {}
        },
        {
          "output_type": "stream",
          "name": "stdout",
          "text": [
            "Extracting ./data/cifar-10-python.tar.gz to ./data\n",
            "Files already downloaded and verified\n"
          ]
        }
      ]
    },
    {
      "cell_type": "code",
      "metadata": {
        "id": "wG931dpBv79f"
      },
      "source": [
        "trainloader_perturb = torch.utils.data.DataLoader(trainset, batch_size=100, shuffle=True)\n",
        "device = torch.device('cuda' if torch.cuda.is_available() else 'cpu') \n",
        "\n",
        "for i, (xs, ys) in enumerate(trainloader_perturb):\n",
        "  xs = xs.to(device)\n",
        "  ys = ys.to(device)\n",
        "  if i==0:\n",
        "    break\n"
      ],
      "execution_count": null,
      "outputs": []
    },
    {
      "cell_type": "code",
      "metadata": {
        "id": "5zAcU2Euzjn1"
      },
      "source": [
        "\n",
        "eps = 8/255\n",
        "ell = []\n",
        "criterion = nn.CrossEntropyLoss()\n",
        "\n",
        "for x, y in zip(xs, ys):\n",
        "  x = x.reshape([1,3,32,32])\n",
        "  y = y.reshape([1])\n",
        "  step_loss = []\n",
        "\n",
        "  for i in range(5):\n",
        "    model.eval()\n",
        "    x.requires_grad_()\n",
        "    x.retain_grad()\n",
        "    outputs = model.forward(x)  \n",
        "    loss = criterion(outputs, y)\n",
        "    loss.backward()\n",
        "    step_loss.append(loss.item())\n",
        "\n",
        "    dx = x.grad.data.clone()\n",
        "    sign = torch.sign(dx)\n",
        "    x.requires_grad = False\n",
        "    x = torch.add(x, eps * sign)\n",
        "    x.requires_grad = True\n",
        "\n",
        "  ell.append(step_loss)"
      ],
      "execution_count": null,
      "outputs": []
    },
    {
      "cell_type": "code",
      "metadata": {
        "colab": {
          "base_uri": "https://localhost:8080/",
          "height": 402
        },
        "id": "9O4KX0LL3BPf",
        "outputId": "403a9364-b144-4fdb-9202-5ab14ca85f57"
      },
      "source": [
        "ell = np.mean(ell, axis=0)\n",
        "step = np.arange(5) + 1\n",
        "\n",
        "plt.plot(step, ell)\n",
        "plt.title('# of attack vs. Loss')\n",
        "plt.xlabel('# of attack')\n",
        "plt.ylabel('Loss')\n",
        "plt.xticks(step)"
      ],
      "execution_count": null,
      "outputs": [
        {
          "output_type": "execute_result",
          "data": {
            "text/plain": [
              "([<matplotlib.axis.XTick at 0x7f673249c550>,\n",
              "  <matplotlib.axis.XTick at 0x7f673249c510>,\n",
              "  <matplotlib.axis.XTick at 0x7f673249c0d0>,\n",
              "  <matplotlib.axis.XTick at 0x7f673244e2d0>,\n",
              "  <matplotlib.axis.XTick at 0x7f673244e790>],\n",
              " <a list of 5 Text major ticklabel objects>)"
            ]
          },
          "metadata": {},
          "execution_count": 57
        },
        {
          "output_type": "display_data",
          "data": {
            "image/png": "[encoded data removed]",
            "text/plain": [
              "<Figure size 432x288 with 1 Axes>"
            ]
          },
          "metadata": {
            "needs_background": "light"
          }
        }
      ]
    },
    {
      "cell_type": "markdown",
      "metadata": {
        "id": "ekmoXCI3BHMf"
      },
      "source": [
        "**(c)**\n",
        "Compute the validation set accuracy"
      ]
    },
    {
      "cell_type": "code",
      "metadata": {
        "colab": {
          "base_uri": "https://localhost:8080/"
        },
        "id": "yWc_t42oA_8V",
        "outputId": "08c6b375-c529-4faf-e816-b6a9323b4195"
      },
      "source": [
        "model.eval()\n",
        "with torch.no_grad():\n",
        "  correct = 0\n",
        "  total = 0\n",
        "  for i, (images, labels) in enumerate(testloader):\n",
        "      images = images.to(device)\n",
        "      labels = labels.to(device)\n",
        "      outputs = model(images)\n",
        "      _, predicted = torch.max(outputs.data, 1)\n",
        "      total += labels.size(0)\n",
        "      correct += (predicted == labels).sum().item()\n",
        "\n",
        "  print('Accuracy of the network on the test images: {} %'.format(100 * correct / total))"
      ],
      "execution_count": null,
      "outputs": [
        {
          "output_type": "stream",
          "name": "stdout",
          "text": [
            "Accuracy of the network on the test images: 88.79 %\n"
          ]
        }
      ]
    },
    {
      "cell_type": "code",
      "metadata": {
        "id": "3Q4o2LgMD64L"
      },
      "source": [
        "accuracy = 100 * correct / total"
      ],
      "execution_count": null,
      "outputs": []
    },
    {
      "cell_type": "markdown",
      "metadata": {
        "id": "-JyE4Pr7EArT"
      },
      "source": [
        "Compute the perturbed validation set accuracy"
      ]
    },
    {
      "cell_type": "code",
      "metadata": {
        "colab": {
          "base_uri": "https://localhost:8080/"
        },
        "id": "4Iw4cugnEAWK",
        "outputId": "03f23bca-6e51-4fc3-c87c-248e96a39896"
      },
      "source": [
        "eps = 8/255\n",
        "ell = []\n",
        "criterion = nn.CrossEntropyLoss()\n",
        "correct = 0\n",
        "total = 0\n",
        "\n",
        "for i, (images, labels) in enumerate(testloader):\n",
        "  images = images.to(device)\n",
        "  labels = labels.to(device)\n",
        "\n",
        "  for x, y in zip(images, labels):\n",
        "    x = x.reshape([1,3,32,32])\n",
        "    y = y.reshape([1])\n",
        "\n",
        "    model.eval()\n",
        "    x.requires_grad_()\n",
        "    x.retain_grad()\n",
        "    outputs = model(x)  \n",
        "    loss = criterion(outputs, y)\n",
        "    loss.backward()\n",
        "\n",
        "    dx = x.grad.data.clone()\n",
        "    sign = torch.sign(dx)\n",
        "    x.requires_grad = False\n",
        "    x = torch.add(x, eps * sign)\n",
        "    x.requires_grad = True\n",
        "    outputs = model(x)  \n",
        "\n",
        "    _, predicted = torch.max(outputs.data, 1)\n",
        "    total += 1\n",
        "    if predicted == y:\n",
        "      correct += 1\n",
        "\n",
        "print('Accuracy of the network on the test images: {} %'.format(100 * correct / total))\n",
        "\n"
      ],
      "execution_count": null,
      "outputs": [
        {
          "output_type": "stream",
          "name": "stdout",
          "text": [
            "Accuracy of the network on the test images: 28.65 %\n"
          ]
        }
      ]
    },
    {
      "cell_type": "markdown",
      "metadata": {
        "id": "XbJl02vxHQWg"
      },
      "source": [
        "The accuracy of perturbed test dataset is 28.65%, comparing with the initial 88.79%, the accuracy greatly decreased."
      ]
    }
  ]
}